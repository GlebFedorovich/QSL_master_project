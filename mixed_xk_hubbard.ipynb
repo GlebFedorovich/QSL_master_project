{
 "cells": [
  {
   "cell_type": "code",
   "execution_count": 75,
   "metadata": {},
   "outputs": [],
   "source": [
    "import numpy as np\n",
    "import scipy\n",
    "import matplotlib.pyplot as plt\n",
    "np.set_printoptions(precision=5, suppress=True, linewidth=100)\n",
    "plt.rcParams['figure.dpi'] = 150\n",
    "from scipy.io import savemat\n",
    "from tenpy.tools.params import get_parameter\n",
    "from matplotlib import colors\n",
    "import matplotlib.pyplot as plt"
   ]
  },
  {
   "cell_type": "code",
   "execution_count": 76,
   "metadata": {},
   "outputs": [],
   "source": [
    "import tenpy\n",
    "import tenpy.linalg.np_conserved as npc\n",
    "from tenpy.algorithms import dmrg\n",
    "from tenpy.networks.mps import MPS\n",
    "from tenpy.models.tf_ising import TFIChain\n",
    "tenpy.tools.misc.setup_logging(to_stdout=\"INFO\")\n",
    "import pickle"
   ]
  },
  {
   "cell_type": "code",
   "execution_count": 77,
   "metadata": {},
   "outputs": [],
   "source": [
    "from tenpy.networks.mps import MPS\n",
    "from tenpy.models.tf_ising import TFIChain\n",
    "from tenpy.algorithms import dmrg\n",
    "from tenpy.networks.site import SpinSite, SpinHalfSite, SpinHalfFermionSite\n",
    "from tenpy.models.lattice import Triangular, Square\n",
    "from tenpy.models.model import CouplingModel, NearestNeighborModel, MPOModel"
   ]
  },
  {
   "cell_type": "code",
   "execution_count": 78,
   "metadata": {},
   "outputs": [],
   "source": [
    "''' Fermi-Hubbard model '''\n",
    "\n",
    "class Hubbard_mixed(CouplingModel, MPOModel):\n",
    "    def __init__(self, model_param):\n",
    "        \n",
    "        ''' system size '''\n",
    "        Lx = model_param[\"Lx\"]\n",
    "        Ly = model_param[\"Ly\"]\n",
    "        q = model_param[\"fraction\"]\n",
    "#         Lx = q \n",
    "        \n",
    "        ''' coupling constants'''\n",
    "        t = model_param[\"t\"]\n",
    "        U = model_param[\"U\"]\n",
    "#         phi = model_param[\"phase\"]\n",
    "        \n",
    "        \n",
    "        ''' boundary conditions'''\n",
    "        bc_MPS = model_param[\"bc_MPS\"]\n",
    "        bc_y = model_param[\"bc_y\"]\n",
    "        bc_x = model_param[\"bc_x\"]\n",
    "        \n",
    "        \n",
    "        ''' site with particle + U(1) symmetry conservation'''\n",
    "        site = SpinHalfFermionSite(cons_N = 'N', cons_Sz = 'Sz')\n",
    "        \n",
    "        ''' define square lattice'''\n",
    "        lat = Square(Lx, Ly, site, bc=[bc_x, bc_y], bc_MPS=bc_MPS)   \n",
    "        \n",
    "\n",
    "        CouplingModel.__init__(self, lat)\n",
    "        \n",
    "        \n",
    "        for i in range(Lx):\n",
    "            for j in range(Ly):\n",
    "                '''hopping along x-direction + diagonal'''\n",
    "                self.add_coupling_term((-t) * 1j + (-t) *  (-1)**(i+1) * np.exp(1j * 2 * np.pi/Ly * j), i * Ly + j, (i+1) * Ly + j, 'Cdu', 'Cu', plus_hc=True)\n",
    "                self.add_coupling_term((-t) * 1j + (-t) *  (-1)**(i+1) * np.exp(1j * 2 * np.pi/Ly * j), i * Ly + j, (i+1) * Ly + j, 'Cdd', 'Cd', plus_hc=True)\n",
    "                \n",
    "                ''' hopping along y-direction'''                           \n",
    "                self.add_onsite_term( (-t) * ((-1)**i) * 2 * np.cos(2*np.pi/Ly * j), i * Ly + j, 'Nu')\n",
    "                self.add_onsite_term( (-t) * ((-1)**i) * 2 * np.cos(2*np.pi/Ly * j), i * Ly + j, 'Nd')\n",
    "                \n",
    "        ''' on-site interactions'''         \n",
    "        for i in range(Lx):\n",
    "            for j in range(Ly//2 + 1): \n",
    "#                 print(i * Ly + j, i * Ly + Ly - 1 - j)\n",
    "                if j != Ly - 1 - j:\n",
    "                    self.add_coupling_term( U, i * Ly + j, i * Ly + Ly - 1 - j, 'Nu', 'Nd')\n",
    "                else:\n",
    "                    self.add_onsite_term(U, i * Ly + j, 'NuNd')\n",
    "                \n",
    "            \n",
    "        MPOModel.__init__(self, lat, self.calc_H_MPO())\n",
    "        ax = plt.gca()\n",
    "        lat.plot_basis(ax)"
   ]
  },
  {
   "cell_type": "code",
   "execution_count": 79,
   "metadata": {},
   "outputs": [],
   "source": [
    "model_param = {\"Lattice\" : Square,\n",
    "              \"Ly\" : 3,\n",
    "              \"Lx\" : 2,\n",
    "              \"t\" : 1.0,\n",
    "              \"U\" : 0.0,\n",
    "              \"fraction\" : 2,\n",
    "              \"bc_MPS\" : \"infinite\",\n",
    "              \"bc_y\" : 'periodic',\n",
    "              \"bc_x\" : 'periodic'}\n",
    "\n",
    "dmrg_params = {\"trunc_params\": {\"chi_max\": 300, \"svd_min\": 1.e-10}, \"mixer\": True, \"max_sweeps\": 500}"
   ]
  },
  {
   "cell_type": "code",
   "execution_count": 80,
   "metadata": {},
   "outputs": [
    {
     "data": {
      "image/png": "[encoded data removed]",
      "text/plain": [
       "<Figure size 900x600 with 1 Axes>"
      ]
     },
     "metadata": {
      "needs_background": "light"
     },
     "output_type": "display_data"
    }
   ],
   "source": [
    "M = Hubbard_mixed(model_param)\n",
    "sites = M.lat.mps_sites()\n",
    "psi = MPS.from_product_state(sites,[\"up\",\"down\",\"down\",\"up\",\"up\",\"down\"],\"infinite\")"
   ]
  },
  {
   "cell_type": "code",
   "execution_count": 81,
   "metadata": {},
   "outputs": [],
   "source": [
    "# print(M.all_coupling_terms().to_TermList())\n",
    "# print(M.all_onsite_terms().to_TermList())\n"
   ]
  },
  {
   "cell_type": "code",
   "execution_count": 82,
   "metadata": {},
   "outputs": [
    {
     "name": "stdout",
     "output_type": "stream",
     "text": [
      "INFO    : DMRG: subconfig 'trunc_params'=Config(<2 options>, 'trunc_params')\n",
      "INFO    : start environment_sweep\n",
      "INFO    : trunc_params: reading 'chi_max'=300\n",
      "INFO    : trunc_params: reading 'svd_min'=1e-10\n",
      "INFO    : DMRG: reading 'max_sweeps'=500\n",
      "INFO    : DMRG: reading 'mixer'=True\n",
      "INFO    : activate DensityMatrixMixer with initial amplitude 1.0e-05\n",
      "INFO    : Running sweep with optimization\n",
      "INFO    : start environment_sweep\n",
      "INFO    : checkpoint after sweep 10\n",
      "energy=-2.3642891225664471, max S=2.7198645757435331, age=198, norm_err=4.5e-10\n",
      "Current memory usage 699240.0MB, wall time: 805.0s\n",
      "Delta E = nan, Delta S = 1.5906e-01 (per sweep)\n",
      "max trunc_err = 1.4993e-07, max E_trunc = 1.5393e-06\n",
      "chi: [300, 300, 300, 300, 300, 300]\n",
      "================================================================================\n",
      "INFO    : Running sweep with optimization\n",
      "INFO    : disable mixer after 15 sweeps, final amplitude 3.05e-10\n",
      "INFO    : start environment_sweep\n",
      "INFO    : checkpoint after sweep 20\n",
      "energy=-2.3642898203123743, max S=2.7198642480793938, age=378, norm_err=1.2e-13\n",
      "Current memory usage 699240.0MB, wall time: 238.4s\n",
      "Delta E = -6.9775e-08, Delta S = 6.7954e-07 (per sweep)\n",
      "max trunc_err = 6.0908e-08, max E_trunc = 1.4270e-06\n",
      "chi: [300, 300, 300, 300, 300, 300]\n",
      "================================================================================\n",
      "INFO    : Running sweep with optimization\n",
      "INFO    : start environment_sweep\n",
      "INFO    : checkpoint after sweep 30\n",
      "energy=-2.3642898284565299, max S=2.7198655534808078, age=558, norm_err=4.7e-13\n",
      "Current memory usage 699240.0MB, wall time: 229.4s\n",
      "Delta E = -8.1442e-10, Delta S = 1.1280e-07 (per sweep)\n",
      "max trunc_err = 7.2754e-08, max E_trunc = 1.5457e-06\n",
      "chi: [300, 300, 300, 300, 300, 300]\n",
      "================================================================================\n",
      "INFO    : DMRG finished after 30 sweeps, max chi=300\n"
     ]
    }
   ],
   "source": [
    "info = dmrg.run(psi, M, dmrg_params)\n",
    "energy = info['E']\n",
    "delta_energy = abs(info[\"sweep_statistics\"]['E'][-1] - info[\"sweep_statistics\"]['E'][-2])"
   ]
  },
  {
   "cell_type": "code",
   "execution_count": null,
   "metadata": {},
   "outputs": [],
   "source": []
  },
  {
   "cell_type": "code",
   "execution_count": null,
   "metadata": {},
   "outputs": [],
   "source": []
  }
 ],
 "metadata": {
  "@webio": {
   "lastCommId": null,
   "lastKernelId": null
  },
  "kernelspec": {
   "display_name": "Python 3",
   "language": "python",
   "name": "python3"
  },
  "language_info": {
   "codemirror_mode": {
    "name": "ipython",
    "version": 3
   },
   "file_extension": ".py",
   "mimetype": "text/x-python",
   "name": "python",
   "nbconvert_exporter": "python",
   "pygments_lexer": "ipython3",
   "version": "3.8.5"
  }
 },
 "nbformat": 4,
 "nbformat_minor": 4
}
