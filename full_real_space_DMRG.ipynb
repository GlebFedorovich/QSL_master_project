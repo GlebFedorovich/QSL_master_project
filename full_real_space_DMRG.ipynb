{
 "cells": [
  {
   "cell_type": "code",
   "execution_count": 122,
   "metadata": {},
   "outputs": [],
   "source": [
    "import numpy as np\n",
    "import scipy\n",
    "import matplotlib.pyplot as plt\n",
    "np.set_printoptions(precision=5, suppress=True, linewidth=100)\n",
    "plt.rcParams['figure.dpi'] = 150\n",
    "from scipy.io import savemat\n",
    "from tenpy.tools.params import get_parameter\n",
    "from matplotlib import colors"
   ]
  },
  {
   "cell_type": "code",
   "execution_count": 123,
   "metadata": {},
   "outputs": [],
   "source": [
    "import tenpy\n",
    "import tenpy.linalg.np_conserved as npc\n",
    "from tenpy.algorithms import dmrg\n",
    "from tenpy.networks.mps import MPS\n",
    "from tenpy.models.tf_ising import TFIChain\n",
    "tenpy.tools.misc.setup_logging(to_stdout=\"INFO\")\n",
    "import pickle"
   ]
  },
  {
   "cell_type": "code",
   "execution_count": 124,
   "metadata": {},
   "outputs": [],
   "source": [
    "from tenpy.networks.mps import MPS\n",
    "from tenpy.models.tf_ising import TFIChain\n",
    "from tenpy.algorithms import dmrg\n",
    "\n",
    "from tenpy.networks.site import SpinSite, SpinHalfSite, SpinHalfFermionSite\n",
    "from tenpy.models.lattice import Triangular, Square\n",
    "from tenpy.models.model import CouplingModel, NearestNeighborModel, MPOModel"
   ]
  },
  {
   "cell_type": "code",
   "execution_count": 125,
   "metadata": {},
   "outputs": [],
   "source": [
    "''' Fermi-Hubbard model '''\n",
    "\n",
    "class Hubbard_chiral(CouplingModel, MPOModel):\n",
    "    def __init__(self, model_param):\n",
    "        \n",
    "        ''' system size '''\n",
    "        Lx = model_param[\"Lx\"]\n",
    "        Ly = model_param[\"Ly\"]\n",
    "#         q = model_param[\"fraction\"]\n",
    "#         Lx = q \n",
    "        \n",
    "        ''' coupling constants'''\n",
    "        t = model_param[\"t\"]\n",
    "        U = model_param[\"U\"]\n",
    "#         phi = model_param[\"phase\"]\n",
    "        \n",
    "        \n",
    "        ''' boundary conditions'''\n",
    "        bc_MPS = model_param[\"bc_MPS\"]\n",
    "        bc_y = model_param[\"bc_y\"]\n",
    "        bc_x = model_param[\"bc_x\"]\n",
    "        \n",
    "        \n",
    "        ''' site with particle + U(1) symmetry conservation'''\n",
    "        site = SpinHalfFermionSite(cons_N = 'N', cons_Sz = 'Sz')\n",
    "        \n",
    "        ''' define triangular lattice'''\n",
    "        lat = Triangular(Lx, Ly, site, bc=[bc_x, bc_y], bc_MPS=bc_MPS)   \n",
    "        \n",
    "\n",
    "        CouplingModel.__init__(self, lat)\n",
    "        \n",
    "        \n",
    "        for i in range(Lx):\n",
    "            for j in range(Ly):\n",
    "                \n",
    "                \"\"\" on-site interaction\"\"\"\n",
    "                self.add_onsite_term(U, i * Ly + j, 'NuNd')\n",
    "                \n",
    "                ''' hopping along x-direction from (i+1,j) to (i,j)'''\n",
    "                self.add_coupling_term( -t * 1j, i * Ly + j, (i+1) * Ly + j, 'Cdu', 'Cu', plus_hc=True)\n",
    "                self.add_coupling_term( -t * 1j, i * Ly + j, (i+1) * Ly + j, 'Cdd', 'Cd', plus_hc=True)\n",
    "                \n",
    "                \n",
    "        for i in range(Lx):\n",
    "            for j in range(Ly-1):\n",
    "                \n",
    "                ''' hopping along y-direction from (i,j) to (i,j+1)'''\n",
    "                self.add_coupling_term( -t * (-1)**i, i * Ly + j, i * Ly + j + 1, 'Cdu', 'Cu', plus_hc=True)\n",
    "                self.add_coupling_term( -t * (-1)**i, i * Ly + j, i * Ly + j + 1, 'Cdd', 'Cd', plus_hc=True)\n",
    "            \n",
    "        for i in range(Lx):\n",
    "            for j in range(1,Ly):\n",
    "                \n",
    "                '''hopping along diagonal from (i+1,j-1) to (i,j)'''\n",
    "                self.add_coupling_term( -t * (-1)**(i+1), i * Ly + j, (i+1) * Ly + j - 1, 'Cdu', 'Cu', plus_hc=True)\n",
    "                self.add_coupling_term( -t * (-1)**(i+1), i * Ly + j, (i+1) * Ly + j - 1, 'Cdd', 'Cd', plus_hc=True)\n",
    "        \n",
    "        #provide periodic boundary conditions \n",
    "        '''(0,0) -- (0, Ly-1)'''\n",
    "        self.add_coupling_term( (-t) * (+1), 0, Ly - 1, 'Cdu', 'Cu', plus_hc=True)\n",
    "        self.add_coupling_term( (-t) * (+1), 0, Ly - 1, 'Cdd', 'Cd', plus_hc=True)\n",
    "        \n",
    "        '''(1,0) -- (1, Ly-1)'''\n",
    "        self.add_coupling_term( (-t) * (-1), Ly, 2*Ly - 1, 'Cdu', 'Cu', plus_hc=True)\n",
    "        self.add_coupling_term( (-t) * (-1), Ly, 2*Ly - 1, 'Cdd', 'Cd', plus_hc=True)\n",
    "        \n",
    "        '''(0,0) -- (1, Ly-1)'''\n",
    "        self.add_coupling_term( (-t) * (-1), 0, 2*Ly - 1, 'Cdu', 'Cu', plus_hc=True)\n",
    "        self.add_coupling_term( (-t) * (-1), 0, 2*Ly - 1, 'Cdd', 'Cd', plus_hc=True)\n",
    "        \n",
    "        '''(1,0) -- (2, Ly-1)'''\n",
    "        self.add_coupling_term( (-t) * (+1), Ly, 3*Ly - 1, 'Cdu', 'Cu', plus_hc=True)\n",
    "        self.add_coupling_term( (-t) * (+1), Ly, 3*Ly - 1, 'Cdd', 'Cd', plus_hc=True)\n",
    "        \n",
    "        MPOModel.__init__(self, lat, self.calc_H_MPO())\n",
    "        \n",
    "        ax = plt.gca()\n",
    "        lat.plot_basis(ax)"
   ]
  },
  {
   "cell_type": "code",
   "execution_count": 126,
   "metadata": {},
   "outputs": [],
   "source": [
    "dmrg_params = {\"trunc_params\": {\"chi_max\": 300, \"svd_min\": 1.e-10}, \"mixer\": True, \"max_sweeps\": 500}"
   ]
  },
  {
   "cell_type": "code",
   "execution_count": 127,
   "metadata": {},
   "outputs": [],
   "source": [
    "model_param = {\"Lattice\" : Triangular,\n",
    "              \"Ly\" : 3,\n",
    "              \"Lx\" : 2,\n",
    "              \"t\" : 1.0,\n",
    "              \"U\" : 0.0,\n",
    "              \"fraction\" : 2,\n",
    "              \"bc_MPS\" : \"infinite\",\n",
    "              \"bc_y\" : 'periodic',\n",
    "              \"bc_x\" : 'periodic'}"
   ]
  },
  {
   "cell_type": "code",
   "execution_count": 128,
   "metadata": {},
   "outputs": [
    {
     "data": {
      "image/png": "[encoded data removed]",
      "text/plain": [
       "<Figure size 900x600 with 1 Axes>"
      ]
     },
     "metadata": {
      "needs_background": "light"
     },
     "output_type": "display_data"
    }
   ],
   "source": [
    "M = Hubbard_chiral(model_param)\n",
    "sites = M.lat.mps_sites()\n",
    "psi = MPS.from_product_state(sites,[\"up\",\"down\",\"down\",\"up\",\"up\",\"down\"],\"infinite\")"
   ]
  },
  {
   "cell_type": "code",
   "execution_count": 129,
   "metadata": {},
   "outputs": [],
   "source": [
    "# print(M.all_coupling_terms().to_TermList())\n",
    "# print(M.all_onsite_terms().to_TermList())"
   ]
  },
  {
   "cell_type": "code",
   "execution_count": 130,
   "metadata": {},
   "outputs": [
    {
     "name": "stdout",
     "output_type": "stream",
     "text": [
      "INFO    : DMRG: subconfig 'trunc_params'=Config(<2 options>, 'trunc_params')\n",
      "INFO    : start environment_sweep\n",
      "INFO    : trunc_params: reading 'chi_max'=300\n",
      "INFO    : trunc_params: reading 'svd_min'=1e-10\n",
      "INFO    : DMRG: reading 'max_sweeps'=500\n",
      "INFO    : DMRG: reading 'mixer'=True\n",
      "INFO    : activate DensityMatrixMixer with initial amplitude 1.0e-05\n",
      "INFO    : Running sweep with optimization\n",
      "INFO    : start environment_sweep\n",
      "INFO    : checkpoint after sweep 10\n",
      "energy=-1.3587771532421584, max S=2.6141627946146504, age=198, norm_err=5.1e-08\n",
      "Current memory usage 677476.0MB, wall time: 1428.5s\n",
      "Delta E = nan, Delta S = 2.4068e-01 (per sweep)\n",
      "max trunc_err = 5.2248e-04, max E_trunc = 2.5592e-03\n",
      "chi: [300, 300, 300, 300, 300, 300]\n",
      "================================================================================\n",
      "INFO    : Running sweep with optimization\n",
      "INFO    : disable mixer after 15 sweeps, final amplitude 3.05e-10\n",
      "INFO    : start environment_sweep\n",
      "INFO    : checkpoint after sweep 20\n",
      "energy=-1.3588981125621302, max S=2.6062912305904447, age=378, norm_err=4.2e-09\n",
      "Current memory usage 677476.0MB, wall time: 148.6s\n",
      "Delta E = -1.2096e-05, Delta S = -8.8216e-04 (per sweep)\n",
      "max trunc_err = 1.5801e-04, max E_trunc = 1.9329e-03\n",
      "chi: [300, 300, 300, 300, 300, 300]\n",
      "================================================================================\n",
      "INFO    : Running sweep with optimization\n",
      "INFO    : start environment_sweep\n",
      "INFO    : checkpoint after sweep 30\n",
      "energy=-1.3588248101228639, max S=2.6120450937078936, age=558, norm_err=1.4e-08\n",
      "Current memory usage 677476.0MB, wall time: 138.2s\n",
      "Delta E = 7.3302e-06, Delta S = 5.8020e-04 (per sweep)\n",
      "max trunc_err = 2.5065e-04, max E_trunc = 2.4714e-03\n",
      "chi: [300, 300, 300, 300, 300, 300]\n",
      "================================================================================\n",
      "INFO    : Running sweep with optimization\n",
      "INFO    : start environment_sweep\n",
      "INFO    : checkpoint after sweep 40\n",
      "energy=-1.3588542506179806, max S=2.6102694007886078, age=738, norm_err=1.2e-08\n",
      "Current memory usage 677476.0MB, wall time: 149.3s\n",
      "Delta E = -2.9440e-06, Delta S = -1.9483e-04 (per sweep)\n",
      "max trunc_err = 2.2653e-04, max E_trunc = 2.3197e-03\n",
      "chi: [300, 300, 300, 300, 300, 300]\n",
      "================================================================================\n",
      "INFO    : Running sweep with optimization\n",
      "INFO    : start environment_sweep\n",
      "INFO    : checkpoint after sweep 50\n",
      "energy=-1.3588409549945482, max S=2.6113539114433015, age=918, norm_err=1.7e-08\n",
      "Current memory usage 677476.0MB, wall time: 217.2s\n",
      "Delta E = 1.3296e-06, Delta S = 1.4708e-04 (per sweep)\n",
      "max trunc_err = 2.5097e-04, max E_trunc = 2.4687e-03\n",
      "chi: [300, 300, 300, 300, 300, 300]\n",
      "================================================================================\n",
      "INFO    : Running sweep with optimization\n",
      "INFO    : start environment_sweep\n",
      "INFO    : checkpoint after sweep 60\n",
      "energy=-1.3588542664988381, max S=2.6102756956685456, age=1098, norm_err=1.2e-08\n",
      "Current memory usage 677476.0MB, wall time: 205.4s\n",
      "Delta E = -1.3312e-06, Delta S = -1.4566e-04 (per sweep)\n",
      "max trunc_err = 2.2652e-04, max E_trunc = 2.3195e-03\n",
      "chi: [300, 300, 300, 300, 300, 300]\n",
      "================================================================================\n",
      "INFO    : Running sweep with optimization\n",
      "INFO    : start environment_sweep\n",
      "INFO    : checkpoint after sweep 70\n",
      "energy=-1.3588409568982154, max S=2.6113629684462794, age=1278, norm_err=1.7e-08\n",
      "Current memory usage 677476.0MB, wall time: 203.5s\n",
      "Delta E = 1.3310e-06, Delta S = 1.4759e-04 (per sweep)\n",
      "max trunc_err = 2.5094e-04, max E_trunc = 2.4688e-03\n",
      "chi: [300, 300, 300, 300, 300, 300]\n",
      "================================================================================\n",
      "INFO    : Running sweep with optimization\n",
      "INFO    : start environment_sweep\n",
      "INFO    : checkpoint after sweep 80\n",
      "energy=-1.3588542805218633, max S=2.6102873988739308, age=1458, norm_err=1.2e-08\n",
      "Current memory usage 677476.0MB, wall time: 180.8s\n",
      "Delta E = -1.3324e-06, Delta S = -1.4522e-04 (per sweep)\n",
      "max trunc_err = 2.2652e-04, max E_trunc = 2.3192e-03\n",
      "chi: [300, 300, 300, 300, 300, 300]\n",
      "================================================================================\n",
      "INFO    : Running sweep with optimization\n"
     ]
    },
    {
     "ename": "KeyboardInterrupt",
     "evalue": "",
     "output_type": "error",
     "traceback": [
      "\u001b[0;31m---------------------------------------------------------------------------\u001b[0m",
      "\u001b[0;31mKeyboardInterrupt\u001b[0m                         Traceback (most recent call last)",
      "\u001b[0;32m<ipython-input-130-7376952ab109>\u001b[0m in \u001b[0;36m<module>\u001b[0;34m\u001b[0m\n\u001b[0;32m----> 1\u001b[0;31m \u001b[0minfo\u001b[0m \u001b[0;34m=\u001b[0m \u001b[0mdmrg\u001b[0m\u001b[0;34m.\u001b[0m\u001b[0mrun\u001b[0m\u001b[0;34m(\u001b[0m\u001b[0mpsi\u001b[0m\u001b[0;34m,\u001b[0m \u001b[0mM\u001b[0m\u001b[0;34m,\u001b[0m \u001b[0mdmrg_params\u001b[0m\u001b[0;34m)\u001b[0m\u001b[0;34m\u001b[0m\u001b[0;34m\u001b[0m\u001b[0m\n\u001b[0m\u001b[1;32m      2\u001b[0m \u001b[0menergy\u001b[0m \u001b[0;34m=\u001b[0m \u001b[0minfo\u001b[0m\u001b[0;34m[\u001b[0m\u001b[0;34m'E'\u001b[0m\u001b[0;34m]\u001b[0m\u001b[0;34m\u001b[0m\u001b[0;34m\u001b[0m\u001b[0m\n\u001b[1;32m      3\u001b[0m \u001b[0mdelta_energy\u001b[0m \u001b[0;34m=\u001b[0m \u001b[0mabs\u001b[0m\u001b[0;34m(\u001b[0m\u001b[0minfo\u001b[0m\u001b[0;34m[\u001b[0m\u001b[0;34m\"sweep_statistics\"\u001b[0m\u001b[0;34m]\u001b[0m\u001b[0;34m[\u001b[0m\u001b[0;34m'E'\u001b[0m\u001b[0;34m]\u001b[0m\u001b[0;34m[\u001b[0m\u001b[0;34m-\u001b[0m\u001b[0;36m1\u001b[0m\u001b[0;34m]\u001b[0m \u001b[0;34m-\u001b[0m \u001b[0minfo\u001b[0m\u001b[0;34m[\u001b[0m\u001b[0;34m\"sweep_statistics\"\u001b[0m\u001b[0;34m]\u001b[0m\u001b[0;34m[\u001b[0m\u001b[0;34m'E'\u001b[0m\u001b[0;34m]\u001b[0m\u001b[0;34m[\u001b[0m\u001b[0;34m-\u001b[0m\u001b[0;36m2\u001b[0m\u001b[0;34m]\u001b[0m\u001b[0;34m)\u001b[0m\u001b[0;34m\u001b[0m\u001b[0;34m\u001b[0m\u001b[0m\n",
      "\u001b[0;32m~/TeNPy/tenpy/algorithms/dmrg.py\u001b[0m in \u001b[0;36mrun\u001b[0;34m(psi, model, options, **kwargs)\u001b[0m\n\u001b[1;32m    106\u001b[0m     \u001b[0;32melse\u001b[0m\u001b[0;34m:\u001b[0m\u001b[0;34m\u001b[0m\u001b[0;34m\u001b[0m\u001b[0m\n\u001b[1;32m    107\u001b[0m         \u001b[0;32mraise\u001b[0m \u001b[0mValueError\u001b[0m\u001b[0;34m(\u001b[0m\u001b[0;34m\"For DMRG, can only use 1 or 2 active sites, not {}\"\u001b[0m\u001b[0;34m.\u001b[0m\u001b[0mformat\u001b[0m\u001b[0;34m(\u001b[0m\u001b[0mactive_sites\u001b[0m\u001b[0;34m)\u001b[0m\u001b[0;34m)\u001b[0m\u001b[0;34m\u001b[0m\u001b[0;34m\u001b[0m\u001b[0m\n\u001b[0;32m--> 108\u001b[0;31m     \u001b[0mE\u001b[0m\u001b[0;34m,\u001b[0m \u001b[0m_\u001b[0m \u001b[0;34m=\u001b[0m \u001b[0mengine\u001b[0m\u001b[0;34m.\u001b[0m\u001b[0mrun\u001b[0m\u001b[0;34m(\u001b[0m\u001b[0;34m)\u001b[0m\u001b[0;34m\u001b[0m\u001b[0;34m\u001b[0m\u001b[0m\n\u001b[0m\u001b[1;32m    109\u001b[0m     return {\n\u001b[1;32m    110\u001b[0m         \u001b[0;34m'E'\u001b[0m\u001b[0;34m:\u001b[0m \u001b[0mE\u001b[0m\u001b[0;34m,\u001b[0m\u001b[0;34m\u001b[0m\u001b[0;34m\u001b[0m\u001b[0m\n",
      "\u001b[0;32m~/TeNPy/tenpy/algorithms/dmrg.py\u001b[0m in \u001b[0;36mrun\u001b[0;34m(self)\u001b[0m\n\u001b[1;32m    852\u001b[0m             \u001b[0mlogger\u001b[0m\u001b[0;34m.\u001b[0m\u001b[0minfo\u001b[0m\u001b[0;34m(\u001b[0m\u001b[0;34m'Running sweep with optimization'\u001b[0m\u001b[0;34m)\u001b[0m\u001b[0;34m\u001b[0m\u001b[0;34m\u001b[0m\u001b[0m\n\u001b[1;32m    853\u001b[0m             \u001b[0;32mfor\u001b[0m \u001b[0mi\u001b[0m \u001b[0;32min\u001b[0m \u001b[0mrange\u001b[0m\u001b[0;34m(\u001b[0m\u001b[0mN_sweeps_check\u001b[0m \u001b[0;34m-\u001b[0m \u001b[0;36m1\u001b[0m\u001b[0;34m)\u001b[0m\u001b[0;34m:\u001b[0m\u001b[0;34m\u001b[0m\u001b[0;34m\u001b[0m\u001b[0m\n\u001b[0;32m--> 854\u001b[0;31m                 \u001b[0mself\u001b[0m\u001b[0;34m.\u001b[0m\u001b[0msweep\u001b[0m\u001b[0;34m(\u001b[0m\u001b[0mmeas_E_trunc\u001b[0m\u001b[0;34m=\u001b[0m\u001b[0;32mFalse\u001b[0m\u001b[0;34m)\u001b[0m\u001b[0;34m\u001b[0m\u001b[0;34m\u001b[0m\u001b[0m\n\u001b[0m\u001b[1;32m    855\u001b[0m             \u001b[0mmax_trunc_err\u001b[0m \u001b[0;34m=\u001b[0m \u001b[0mself\u001b[0m\u001b[0;34m.\u001b[0m\u001b[0msweep\u001b[0m\u001b[0;34m(\u001b[0m\u001b[0mmeas_E_trunc\u001b[0m\u001b[0;34m=\u001b[0m\u001b[0;32mTrue\u001b[0m\u001b[0;34m)\u001b[0m\u001b[0;34m\u001b[0m\u001b[0;34m\u001b[0m\u001b[0m\n\u001b[1;32m    856\u001b[0m             \u001b[0mmax_E_trunc\u001b[0m \u001b[0;34m=\u001b[0m \u001b[0mnp\u001b[0m\u001b[0;34m.\u001b[0m\u001b[0mmax\u001b[0m\u001b[0;34m(\u001b[0m\u001b[0mself\u001b[0m\u001b[0;34m.\u001b[0m\u001b[0mE_trunc_list\u001b[0m\u001b[0;34m)\u001b[0m\u001b[0;34m\u001b[0m\u001b[0;34m\u001b[0m\u001b[0m\n",
      "\u001b[0;32m~/TeNPy/tenpy/algorithms/dmrg.py\u001b[0m in \u001b[0;36msweep\u001b[0;34m(self, optimize, meas_E_trunc)\u001b[0m\n\u001b[1;32m   1048\u001b[0m                 \u001b[0;31m# growing the bond dimension with chi_list, so we should also reactivate the mixer\u001b[0m\u001b[0;34m\u001b[0m\u001b[0;34m\u001b[0m\u001b[0;34m\u001b[0m\u001b[0m\n\u001b[1;32m   1049\u001b[0m                 \u001b[0mself\u001b[0m\u001b[0;34m.\u001b[0m\u001b[0mmixer_activate\u001b[0m\u001b[0;34m(\u001b[0m\u001b[0;34m)\u001b[0m\u001b[0;34m\u001b[0m\u001b[0;34m\u001b[0m\u001b[0m\n\u001b[0;32m-> 1050\u001b[0;31m         \u001b[0mres\u001b[0m \u001b[0;34m=\u001b[0m \u001b[0msuper\u001b[0m\u001b[0;34m(\u001b[0m\u001b[0;34m)\u001b[0m\u001b[0;34m.\u001b[0m\u001b[0msweep\u001b[0m\u001b[0;34m(\u001b[0m\u001b[0moptimize\u001b[0m\u001b[0;34m)\u001b[0m\u001b[0;34m\u001b[0m\u001b[0;34m\u001b[0m\u001b[0m\n\u001b[0m\u001b[1;32m   1051\u001b[0m         \u001b[0;32mif\u001b[0m \u001b[0moptimize\u001b[0m\u001b[0;34m:\u001b[0m\u001b[0;34m\u001b[0m\u001b[0;34m\u001b[0m\u001b[0m\n\u001b[1;32m   1052\u001b[0m             \u001b[0;31m# update mixer\u001b[0m\u001b[0;34m\u001b[0m\u001b[0;34m\u001b[0m\u001b[0;34m\u001b[0m\u001b[0m\n",
      "\u001b[0;32m~/TeNPy/tenpy/algorithms/mps_common.py\u001b[0m in \u001b[0;36msweep\u001b[0;34m(self, optimize)\u001b[0m\n\u001b[1;32m    390\u001b[0m             \u001b[0;31m# --------- the main work --------------\u001b[0m\u001b[0;34m\u001b[0m\u001b[0;34m\u001b[0m\u001b[0;34m\u001b[0m\u001b[0m\n\u001b[1;32m    391\u001b[0m             \u001b[0mtheta\u001b[0m \u001b[0;34m=\u001b[0m \u001b[0mself\u001b[0m\u001b[0;34m.\u001b[0m\u001b[0mprepare_update_local\u001b[0m\u001b[0;34m(\u001b[0m\u001b[0;34m)\u001b[0m\u001b[0;34m\u001b[0m\u001b[0;34m\u001b[0m\u001b[0m\n\u001b[0;32m--> 392\u001b[0;31m             \u001b[0mupdate_data\u001b[0m \u001b[0;34m=\u001b[0m \u001b[0mself\u001b[0m\u001b[0;34m.\u001b[0m\u001b[0mupdate_local\u001b[0m\u001b[0;34m(\u001b[0m\u001b[0mtheta\u001b[0m\u001b[0;34m,\u001b[0m \u001b[0moptimize\u001b[0m\u001b[0;34m=\u001b[0m\u001b[0moptimize\u001b[0m\u001b[0;34m)\u001b[0m\u001b[0;34m\u001b[0m\u001b[0;34m\u001b[0m\u001b[0m\n\u001b[0m\u001b[1;32m    393\u001b[0m             \u001b[0mself\u001b[0m\u001b[0;34m.\u001b[0m\u001b[0mupdate_env\u001b[0m\u001b[0;34m(\u001b[0m\u001b[0;34m**\u001b[0m\u001b[0mupdate_data\u001b[0m\u001b[0;34m)\u001b[0m\u001b[0;34m\u001b[0m\u001b[0;34m\u001b[0m\u001b[0m\n\u001b[1;32m    394\u001b[0m             \u001b[0mself\u001b[0m\u001b[0;34m.\u001b[0m\u001b[0mpost_update_local\u001b[0m\u001b[0;34m(\u001b[0m\u001b[0;34m**\u001b[0m\u001b[0mupdate_data\u001b[0m\u001b[0;34m)\u001b[0m\u001b[0;34m\u001b[0m\u001b[0;34m\u001b[0m\u001b[0m\n",
      "\u001b[0;32m~/TeNPy/tenpy/algorithms/dmrg.py\u001b[0m in \u001b[0;36mupdate_local\u001b[0;34m(self, theta, optimize)\u001b[0m\n\u001b[1;32m   1092\u001b[0m         \u001b[0mage\u001b[0m \u001b[0;34m=\u001b[0m \u001b[0mself\u001b[0m\u001b[0;34m.\u001b[0m\u001b[0menv\u001b[0m\u001b[0;34m.\u001b[0m\u001b[0mget_LP_age\u001b[0m\u001b[0;34m(\u001b[0m\u001b[0mi0\u001b[0m\u001b[0;34m)\u001b[0m \u001b[0;34m+\u001b[0m \u001b[0mn_opt\u001b[0m \u001b[0;34m+\u001b[0m \u001b[0mself\u001b[0m\u001b[0;34m.\u001b[0m\u001b[0menv\u001b[0m\u001b[0;34m.\u001b[0m\u001b[0mget_RP_age\u001b[0m\u001b[0;34m(\u001b[0m\u001b[0mi0\u001b[0m \u001b[0;34m+\u001b[0m \u001b[0mn_opt\u001b[0m \u001b[0;34m-\u001b[0m \u001b[0;36m1\u001b[0m\u001b[0;34m)\u001b[0m\u001b[0;34m\u001b[0m\u001b[0;34m\u001b[0m\u001b[0m\n\u001b[1;32m   1093\u001b[0m         \u001b[0;32mif\u001b[0m \u001b[0moptimize\u001b[0m\u001b[0;34m:\u001b[0m\u001b[0;34m\u001b[0m\u001b[0;34m\u001b[0m\u001b[0m\n\u001b[0;32m-> 1094\u001b[0;31m             \u001b[0mE0\u001b[0m\u001b[0;34m,\u001b[0m \u001b[0mtheta\u001b[0m\u001b[0;34m,\u001b[0m \u001b[0mN\u001b[0m\u001b[0;34m,\u001b[0m \u001b[0mov_change\u001b[0m \u001b[0;34m=\u001b[0m \u001b[0mself\u001b[0m\u001b[0;34m.\u001b[0m\u001b[0mdiag\u001b[0m\u001b[0;34m(\u001b[0m\u001b[0mtheta\u001b[0m\u001b[0;34m)\u001b[0m\u001b[0;34m\u001b[0m\u001b[0;34m\u001b[0m\u001b[0m\n\u001b[0m\u001b[1;32m   1095\u001b[0m         \u001b[0;32melse\u001b[0m\u001b[0;34m:\u001b[0m\u001b[0;34m\u001b[0m\u001b[0;34m\u001b[0m\u001b[0m\n\u001b[1;32m   1096\u001b[0m             \u001b[0mE0\u001b[0m\u001b[0;34m,\u001b[0m \u001b[0mN\u001b[0m\u001b[0;34m,\u001b[0m \u001b[0mov_change\u001b[0m \u001b[0;34m=\u001b[0m \u001b[0;32mNone\u001b[0m\u001b[0;34m,\u001b[0m \u001b[0;36m0\u001b[0m\u001b[0;34m,\u001b[0m \u001b[0;36m0.\u001b[0m\u001b[0;34m\u001b[0m\u001b[0;34m\u001b[0m\u001b[0m\n",
      "\u001b[0;32m~/TeNPy/tenpy/algorithms/dmrg.py\u001b[0m in \u001b[0;36mdiag\u001b[0;34m(self, theta_guess)\u001b[0m\n\u001b[1;32m   1209\u001b[0m                 \u001b[0mE\u001b[0m\u001b[0;34m,\u001b[0m \u001b[0mtheta\u001b[0m \u001b[0;34m=\u001b[0m \u001b[0mfull_diag_effH\u001b[0m\u001b[0;34m(\u001b[0m\u001b[0mself\u001b[0m\u001b[0;34m.\u001b[0m\u001b[0meff_H\u001b[0m\u001b[0;34m,\u001b[0m \u001b[0mtheta_guess\u001b[0m\u001b[0;34m,\u001b[0m \u001b[0mkeep_sector\u001b[0m\u001b[0;34m=\u001b[0m\u001b[0;32mTrue\u001b[0m\u001b[0;34m)\u001b[0m\u001b[0;34m\u001b[0m\u001b[0;34m\u001b[0m\u001b[0m\n\u001b[1;32m   1210\u001b[0m             \u001b[0;32melse\u001b[0m\u001b[0;34m:\u001b[0m\u001b[0;34m\u001b[0m\u001b[0;34m\u001b[0m\u001b[0m\n\u001b[0;32m-> 1211\u001b[0;31m                 \u001b[0mE\u001b[0m\u001b[0;34m,\u001b[0m \u001b[0mtheta\u001b[0m\u001b[0;34m,\u001b[0m \u001b[0mN\u001b[0m \u001b[0;34m=\u001b[0m \u001b[0mlanczos\u001b[0m\u001b[0;34m(\u001b[0m\u001b[0mself\u001b[0m\u001b[0;34m.\u001b[0m\u001b[0meff_H\u001b[0m\u001b[0;34m,\u001b[0m \u001b[0mtheta_guess\u001b[0m\u001b[0;34m,\u001b[0m \u001b[0mself\u001b[0m\u001b[0;34m.\u001b[0m\u001b[0mlanczos_params\u001b[0m\u001b[0;34m)\u001b[0m\u001b[0;34m\u001b[0m\u001b[0;34m\u001b[0m\u001b[0m\n\u001b[0m\u001b[1;32m   1212\u001b[0m         \u001b[0;32melif\u001b[0m \u001b[0mself\u001b[0m\u001b[0;34m.\u001b[0m\u001b[0mdiag_method\u001b[0m \u001b[0;34m==\u001b[0m \u001b[0;34m'lanczos'\u001b[0m\u001b[0;34m:\u001b[0m\u001b[0;34m\u001b[0m\u001b[0;34m\u001b[0m\u001b[0m\n\u001b[1;32m   1213\u001b[0m             \u001b[0mE\u001b[0m\u001b[0;34m,\u001b[0m \u001b[0mtheta\u001b[0m\u001b[0;34m,\u001b[0m \u001b[0mN\u001b[0m \u001b[0;34m=\u001b[0m \u001b[0mlanczos\u001b[0m\u001b[0;34m(\u001b[0m\u001b[0mself\u001b[0m\u001b[0;34m.\u001b[0m\u001b[0meff_H\u001b[0m\u001b[0;34m,\u001b[0m \u001b[0mtheta_guess\u001b[0m\u001b[0;34m,\u001b[0m \u001b[0mself\u001b[0m\u001b[0;34m.\u001b[0m\u001b[0mlanczos_params\u001b[0m\u001b[0;34m)\u001b[0m\u001b[0;34m\u001b[0m\u001b[0;34m\u001b[0m\u001b[0m\n",
      "\u001b[0;32m~/TeNPy/tenpy/linalg/lanczos.py\u001b[0m in \u001b[0;36mlanczos\u001b[0;34m(H, psi, options, orthogonal_to)\u001b[0m\n\u001b[1;32m    583\u001b[0m         \u001b[0mSee\u001b[0m \u001b[0;34m:\u001b[0m\u001b[0mmeth\u001b[0m\u001b[0;34m:\u001b[0m\u001b[0;31m`\u001b[0m\u001b[0mLanczosGroundState\u001b[0m\u001b[0;34m.\u001b[0m\u001b[0mrun\u001b[0m\u001b[0;31m`\u001b[0m\u001b[0;34m.\u001b[0m\u001b[0;34m\u001b[0m\u001b[0;34m\u001b[0m\u001b[0m\n\u001b[1;32m    584\u001b[0m     \"\"\"\n\u001b[0;32m--> 585\u001b[0;31m     \u001b[0;32mreturn\u001b[0m \u001b[0mLanczosGroundState\u001b[0m\u001b[0;34m(\u001b[0m\u001b[0mH\u001b[0m\u001b[0;34m,\u001b[0m \u001b[0mpsi\u001b[0m\u001b[0;34m,\u001b[0m \u001b[0moptions\u001b[0m\u001b[0;34m,\u001b[0m \u001b[0morthogonal_to\u001b[0m\u001b[0;34m)\u001b[0m\u001b[0;34m.\u001b[0m\u001b[0mrun\u001b[0m\u001b[0;34m(\u001b[0m\u001b[0;34m)\u001b[0m\u001b[0;34m\u001b[0m\u001b[0;34m\u001b[0m\u001b[0m\n\u001b[0m\u001b[1;32m    586\u001b[0m \u001b[0;34m\u001b[0m\u001b[0m\n\u001b[1;32m    587\u001b[0m \u001b[0;34m\u001b[0m\u001b[0m\n",
      "\u001b[0;32m~/TeNPy/tenpy/linalg/lanczos.py\u001b[0m in \u001b[0;36mrun\u001b[0;34m(self)\u001b[0m\n\u001b[1;32m    373\u001b[0m             \u001b[0mUsed\u001b[0m \u001b[0mdimension\u001b[0m \u001b[0mof\u001b[0m \u001b[0mthe\u001b[0m \u001b[0mKrylov\u001b[0m \u001b[0mspace\u001b[0m\u001b[0;34m,\u001b[0m \u001b[0mi\u001b[0m\u001b[0;34m.\u001b[0m\u001b[0me\u001b[0m\u001b[0;34m.\u001b[0m\u001b[0;34m,\u001b[0m \u001b[0mhow\u001b[0m \u001b[0mmany\u001b[0m \u001b[0miterations\u001b[0m \u001b[0mwhere\u001b[0m \u001b[0mperformed\u001b[0m\u001b[0;34m.\u001b[0m\u001b[0;34m\u001b[0m\u001b[0;34m\u001b[0m\u001b[0m\n\u001b[1;32m    374\u001b[0m         \"\"\"\n\u001b[0;32m--> 375\u001b[0;31m         \u001b[0mN\u001b[0m \u001b[0;34m=\u001b[0m \u001b[0mself\u001b[0m\u001b[0;34m.\u001b[0m\u001b[0m_build_krylov\u001b[0m\u001b[0;34m(\u001b[0m\u001b[0;34m)\u001b[0m\u001b[0;34m\u001b[0m\u001b[0;34m\u001b[0m\u001b[0m\n\u001b[0m\u001b[1;32m    376\u001b[0m         \u001b[0mE0\u001b[0m \u001b[0;34m=\u001b[0m \u001b[0mself\u001b[0m\u001b[0;34m.\u001b[0m\u001b[0mEs\u001b[0m\u001b[0;34m[\u001b[0m\u001b[0mN\u001b[0m \u001b[0;34m-\u001b[0m \u001b[0;36m1\u001b[0m\u001b[0;34m,\u001b[0m \u001b[0;36m0\u001b[0m\u001b[0;34m]\u001b[0m\u001b[0;34m\u001b[0m\u001b[0;34m\u001b[0m\u001b[0m\n\u001b[1;32m    377\u001b[0m         \u001b[0;32mif\u001b[0m \u001b[0mN\u001b[0m \u001b[0;34m>\u001b[0m \u001b[0;36m1\u001b[0m\u001b[0;34m:\u001b[0m\u001b[0;34m\u001b[0m\u001b[0;34m\u001b[0m\u001b[0m\n",
      "\u001b[0;32m~/TeNPy/tenpy/linalg/lanczos.py\u001b[0m in \u001b[0;36m_build_krylov\u001b[0;34m(self)\u001b[0m\n\u001b[1;32m    402\u001b[0m             \u001b[0mw\u001b[0m\u001b[0;34m.\u001b[0m\u001b[0miscale_prefactor\u001b[0m\u001b[0;34m(\u001b[0m\u001b[0;36m1.\u001b[0m \u001b[0;34m/\u001b[0m \u001b[0mbeta\u001b[0m\u001b[0;34m)\u001b[0m\u001b[0;34m\u001b[0m\u001b[0;34m\u001b[0m\u001b[0m\n\u001b[1;32m    403\u001b[0m             \u001b[0mself\u001b[0m\u001b[0;34m.\u001b[0m\u001b[0m_to_cache\u001b[0m\u001b[0;34m(\u001b[0m\u001b[0mw\u001b[0m\u001b[0;34m)\u001b[0m\u001b[0;34m\u001b[0m\u001b[0;34m\u001b[0m\u001b[0m\n\u001b[0;32m--> 404\u001b[0;31m             \u001b[0mw\u001b[0m \u001b[0;34m=\u001b[0m \u001b[0mself\u001b[0m\u001b[0;34m.\u001b[0m\u001b[0mH\u001b[0m\u001b[0;34m.\u001b[0m\u001b[0mmatvec\u001b[0m\u001b[0;34m(\u001b[0m\u001b[0mw\u001b[0m\u001b[0;34m)\u001b[0m\u001b[0;34m\u001b[0m\u001b[0;34m\u001b[0m\u001b[0m\n\u001b[0m\u001b[1;32m    405\u001b[0m             \u001b[0malpha\u001b[0m \u001b[0;34m=\u001b[0m \u001b[0mnp\u001b[0m\u001b[0;34m.\u001b[0m\u001b[0mreal\u001b[0m\u001b[0;34m(\u001b[0m\u001b[0mnpc\u001b[0m\u001b[0;34m.\u001b[0m\u001b[0minner\u001b[0m\u001b[0;34m(\u001b[0m\u001b[0mw\u001b[0m\u001b[0;34m,\u001b[0m \u001b[0mself\u001b[0m\u001b[0;34m.\u001b[0m\u001b[0m_cache\u001b[0m\u001b[0;34m[\u001b[0m\u001b[0;34m-\u001b[0m\u001b[0;36m1\u001b[0m\u001b[0;34m]\u001b[0m\u001b[0;34m,\u001b[0m \u001b[0maxes\u001b[0m\u001b[0;34m=\u001b[0m\u001b[0;34m'range'\u001b[0m\u001b[0;34m,\u001b[0m \u001b[0mdo_conj\u001b[0m\u001b[0;34m=\u001b[0m\u001b[0;32mTrue\u001b[0m\u001b[0;34m)\u001b[0m\u001b[0;34m)\u001b[0m\u001b[0;34m.\u001b[0m\u001b[0mitem\u001b[0m\u001b[0;34m(\u001b[0m\u001b[0;34m)\u001b[0m\u001b[0;34m\u001b[0m\u001b[0;34m\u001b[0m\u001b[0m\n\u001b[1;32m    406\u001b[0m             \u001b[0mh\u001b[0m\u001b[0;34m[\u001b[0m\u001b[0mk\u001b[0m\u001b[0;34m,\u001b[0m \u001b[0mk\u001b[0m\u001b[0;34m]\u001b[0m \u001b[0;34m=\u001b[0m \u001b[0malpha\u001b[0m\u001b[0;34m\u001b[0m\u001b[0;34m\u001b[0m\u001b[0m\n",
      "\u001b[0;32m~/TeNPy/tenpy/algorithms/mps_common.py\u001b[0m in \u001b[0;36mmatvec\u001b[0;34m(self, theta)\u001b[0m\n\u001b[1;32m   1001\u001b[0m             \u001b[0mtheta\u001b[0m \u001b[0;34m=\u001b[0m \u001b[0mnpc\u001b[0m\u001b[0;34m.\u001b[0m\u001b[0mtensordot\u001b[0m\u001b[0;34m(\u001b[0m\u001b[0mself\u001b[0m\u001b[0;34m.\u001b[0m\u001b[0mLP\u001b[0m\u001b[0;34m,\u001b[0m \u001b[0mtheta\u001b[0m\u001b[0;34m,\u001b[0m \u001b[0maxes\u001b[0m\u001b[0;34m=\u001b[0m\u001b[0;34m[\u001b[0m\u001b[0;34m'vR'\u001b[0m\u001b[0;34m,\u001b[0m \u001b[0;34m'vL'\u001b[0m\u001b[0;34m]\u001b[0m\u001b[0;34m)\u001b[0m\u001b[0;34m\u001b[0m\u001b[0;34m\u001b[0m\u001b[0m\n\u001b[1;32m   1002\u001b[0m             \u001b[0mtheta\u001b[0m \u001b[0;34m=\u001b[0m \u001b[0mnpc\u001b[0m\u001b[0;34m.\u001b[0m\u001b[0mtensordot\u001b[0m\u001b[0;34m(\u001b[0m\u001b[0mself\u001b[0m\u001b[0;34m.\u001b[0m\u001b[0mW0\u001b[0m\u001b[0;34m,\u001b[0m \u001b[0mtheta\u001b[0m\u001b[0;34m,\u001b[0m \u001b[0maxes\u001b[0m\u001b[0;34m=\u001b[0m\u001b[0;34m[\u001b[0m\u001b[0;34m[\u001b[0m\u001b[0;34m'wL'\u001b[0m\u001b[0;34m,\u001b[0m \u001b[0;34m'p0*'\u001b[0m\u001b[0;34m]\u001b[0m\u001b[0;34m,\u001b[0m \u001b[0;34m[\u001b[0m\u001b[0;34m'wR'\u001b[0m\u001b[0;34m,\u001b[0m \u001b[0;34m'p0'\u001b[0m\u001b[0;34m]\u001b[0m\u001b[0;34m]\u001b[0m\u001b[0;34m)\u001b[0m\u001b[0;34m\u001b[0m\u001b[0;34m\u001b[0m\u001b[0m\n\u001b[0;32m-> 1003\u001b[0;31m             \u001b[0mtheta\u001b[0m \u001b[0;34m=\u001b[0m \u001b[0mnpc\u001b[0m\u001b[0;34m.\u001b[0m\u001b[0mtensordot\u001b[0m\u001b[0;34m(\u001b[0m\u001b[0mtheta\u001b[0m\u001b[0;34m,\u001b[0m \u001b[0mself\u001b[0m\u001b[0;34m.\u001b[0m\u001b[0mW1\u001b[0m\u001b[0;34m,\u001b[0m \u001b[0maxes\u001b[0m\u001b[0;34m=\u001b[0m\u001b[0;34m[\u001b[0m\u001b[0;34m[\u001b[0m\u001b[0;34m'wR'\u001b[0m\u001b[0;34m,\u001b[0m \u001b[0;34m'p1'\u001b[0m\u001b[0;34m]\u001b[0m\u001b[0;34m,\u001b[0m \u001b[0;34m[\u001b[0m\u001b[0;34m'wL'\u001b[0m\u001b[0;34m,\u001b[0m \u001b[0;34m'p1*'\u001b[0m\u001b[0;34m]\u001b[0m\u001b[0;34m]\u001b[0m\u001b[0;34m)\u001b[0m\u001b[0;34m\u001b[0m\u001b[0;34m\u001b[0m\u001b[0m\n\u001b[0m\u001b[1;32m   1004\u001b[0m             \u001b[0mtheta\u001b[0m \u001b[0;34m=\u001b[0m \u001b[0mnpc\u001b[0m\u001b[0;34m.\u001b[0m\u001b[0mtensordot\u001b[0m\u001b[0;34m(\u001b[0m\u001b[0mtheta\u001b[0m\u001b[0;34m,\u001b[0m \u001b[0mself\u001b[0m\u001b[0;34m.\u001b[0m\u001b[0mRP\u001b[0m\u001b[0;34m,\u001b[0m \u001b[0maxes\u001b[0m\u001b[0;34m=\u001b[0m\u001b[0;34m[\u001b[0m\u001b[0;34m[\u001b[0m\u001b[0;34m'wR'\u001b[0m\u001b[0;34m,\u001b[0m \u001b[0;34m'vR'\u001b[0m\u001b[0;34m]\u001b[0m\u001b[0;34m,\u001b[0m \u001b[0;34m[\u001b[0m\u001b[0;34m'wL'\u001b[0m\u001b[0;34m,\u001b[0m \u001b[0;34m'vL'\u001b[0m\u001b[0;34m]\u001b[0m\u001b[0;34m]\u001b[0m\u001b[0;34m)\u001b[0m\u001b[0;34m\u001b[0m\u001b[0;34m\u001b[0m\u001b[0m\n\u001b[1;32m   1005\u001b[0m             \u001b[0mtheta\u001b[0m\u001b[0;34m.\u001b[0m\u001b[0mireplace_labels\u001b[0m\u001b[0;34m(\u001b[0m\u001b[0;34m[\u001b[0m\u001b[0;34m'vR*'\u001b[0m\u001b[0;34m,\u001b[0m \u001b[0;34m'vL*'\u001b[0m\u001b[0;34m]\u001b[0m\u001b[0;34m,\u001b[0m \u001b[0;34m[\u001b[0m\u001b[0;34m'vL'\u001b[0m\u001b[0;34m,\u001b[0m \u001b[0;34m'vR'\u001b[0m\u001b[0;34m]\u001b[0m\u001b[0;34m)\u001b[0m\u001b[0;34m\u001b[0m\u001b[0;34m\u001b[0m\u001b[0m\n",
      "\u001b[0;32m~/TeNPy/tenpy/linalg/np_conserved.py\u001b[0m in \u001b[0;36mtensordot\u001b[0;34m(a, b, axes)\u001b[0m\n\u001b[1;32m   3521\u001b[0m     \u001b[0;32melse\u001b[0m\u001b[0;34m:\u001b[0m\u001b[0;34m\u001b[0m\u001b[0;34m\u001b[0m\u001b[0m\n\u001b[1;32m   3522\u001b[0m         \u001b[0;31m# #### the main work\u001b[0m\u001b[0;34m\u001b[0m\u001b[0;34m\u001b[0m\u001b[0;34m\u001b[0m\u001b[0m\n\u001b[0;32m-> 3523\u001b[0;31m         \u001b[0mres\u001b[0m \u001b[0;34m=\u001b[0m \u001b[0m_tensordot_worker\u001b[0m\u001b[0;34m(\u001b[0m\u001b[0ma\u001b[0m\u001b[0;34m,\u001b[0m \u001b[0mb\u001b[0m\u001b[0;34m,\u001b[0m \u001b[0maxes\u001b[0m\u001b[0;34m)\u001b[0m\u001b[0;34m\u001b[0m\u001b[0;34m\u001b[0m\u001b[0m\n\u001b[0m\u001b[1;32m   3524\u001b[0m     \u001b[0;31m# labels\u001b[0m\u001b[0;34m\u001b[0m\u001b[0;34m\u001b[0m\u001b[0;34m\u001b[0m\u001b[0m\n\u001b[1;32m   3525\u001b[0m     \u001b[0mres\u001b[0m\u001b[0;34m.\u001b[0m\u001b[0m_labels\u001b[0m \u001b[0;34m=\u001b[0m \u001b[0m_drop_duplicate_labels\u001b[0m\u001b[0;34m(\u001b[0m\u001b[0ma\u001b[0m\u001b[0;34m.\u001b[0m\u001b[0m_labels\u001b[0m\u001b[0;34m[\u001b[0m\u001b[0;34m:\u001b[0m\u001b[0;34m-\u001b[0m\u001b[0maxes\u001b[0m\u001b[0;34m]\u001b[0m\u001b[0;34m,\u001b[0m \u001b[0mb\u001b[0m\u001b[0;34m.\u001b[0m\u001b[0m_labels\u001b[0m\u001b[0;34m[\u001b[0m\u001b[0maxes\u001b[0m\u001b[0;34m:\u001b[0m\u001b[0;34m]\u001b[0m\u001b[0;34m)\u001b[0m\u001b[0;34m\u001b[0m\u001b[0;34m\u001b[0m\u001b[0m\n",
      "\u001b[0;32m~/TeNPy/tenpy/linalg/np_conserved.py\u001b[0m in \u001b[0;36m_tensordot_worker\u001b[0;34m(a, b, axes)\u001b[0m\n\u001b[1;32m   4703\u001b[0m             block_contr = fast_dot_sum(a_data[row_a], b_data[col_b], a_qdata_contr[row_a],\n\u001b[1;32m   4704\u001b[0m                                        b_qdata_contr[col_b])\n\u001b[0;32m-> 4705\u001b[0;31m             \u001b[0;32mif\u001b[0m \u001b[0mblock_contr\u001b[0m \u001b[0;32mis\u001b[0m \u001b[0;32mnot\u001b[0m \u001b[0;32mNone\u001b[0m\u001b[0;34m:\u001b[0m  \u001b[0;31m# no common blocks\u001b[0m\u001b[0;34m\u001b[0m\u001b[0;34m\u001b[0m\u001b[0m\n\u001b[0m\u001b[1;32m   4706\u001b[0m                 \u001b[0;31m# Step 4) reshape back to tensors\u001b[0m\u001b[0;34m\u001b[0m\u001b[0;34m\u001b[0m\u001b[0;34m\u001b[0m\u001b[0m\n\u001b[1;32m   4707\u001b[0m                 \u001b[0mblock_contr\u001b[0m \u001b[0;34m=\u001b[0m \u001b[0mblock_contr\u001b[0m\u001b[0;34m.\u001b[0m\u001b[0mreshape\u001b[0m\u001b[0;34m(\u001b[0m\u001b[0ma_shape_keep\u001b[0m\u001b[0;34m[\u001b[0m\u001b[0mrow_a\u001b[0m\u001b[0;34m]\u001b[0m \u001b[0;34m+\u001b[0m \u001b[0mb_shape_keep\u001b[0m\u001b[0;34m[\u001b[0m\u001b[0mcol_b\u001b[0m\u001b[0;34m]\u001b[0m\u001b[0;34m)\u001b[0m\u001b[0;34m\u001b[0m\u001b[0;34m\u001b[0m\u001b[0m\n",
      "\u001b[0;31mKeyboardInterrupt\u001b[0m: "
     ]
    }
   ],
   "source": [
    "info = dmrg.run(psi, M, dmrg_params)\n",
    "energy = info['E']\n",
    "delta_energy = abs(info[\"sweep_statistics\"]['E'][-1] - info[\"sweep_statistics\"]['E'][-2])"
   ]
  },
  {
   "cell_type": "code",
   "execution_count": null,
   "metadata": {},
   "outputs": [],
   "source": [
    "# data = {'psi': psi, 'dmrg_params': dmrg_params, 'Energy': energy, 'Delta Energy': delta_energy, 'model_params': model_param}"
   ]
  },
  {
   "cell_type": "code",
   "execution_count": null,
   "metadata": {},
   "outputs": [],
   "source": [
    "# with open('results_hubbard.pkl', 'wb') as f:\n",
    "#     pickle.dump(data, f)"
   ]
  },
  {
   "cell_type": "code",
   "execution_count": null,
   "metadata": {},
   "outputs": [],
   "source": [
    "# with open('results_mixed_server.pkl', 'rb') as f:\n",
    "#     data_load = pickle.load(f)"
   ]
  },
  {
   "cell_type": "code",
   "execution_count": null,
   "metadata": {},
   "outputs": [],
   "source": [
    "# data_load[\"Energy\"]"
   ]
  },
  {
   "cell_type": "code",
   "execution_count": null,
   "metadata": {},
   "outputs": [],
   "source": [
    "# data_load['Delta Energy']"
   ]
  },
  {
   "cell_type": "code",
   "execution_count": null,
   "metadata": {},
   "outputs": [],
   "source": []
  }
 ],
 "metadata": {
  "@webio": {
   "lastCommId": null,
   "lastKernelId": null
  },
  "kernelspec": {
   "display_name": "Python 3",
   "language": "python",
   "name": "python3"
  },
  "language_info": {
   "codemirror_mode": {
    "name": "ipython",
    "version": 3
   },
   "file_extension": ".py",
   "mimetype": "text/x-python",
   "name": "python",
   "nbconvert_exporter": "python",
   "pygments_lexer": "ipython3",
   "version": "3.8.5"
  }
 },
 "nbformat": 4,
 "nbformat_minor": 4
}
