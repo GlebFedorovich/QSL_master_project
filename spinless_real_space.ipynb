{
 "cells": [
  {
   "cell_type": "code",
   "execution_count": 1,
   "metadata": {},
   "outputs": [
    {
     "name": "stderr",
     "output_type": "stream",
     "text": [
      "/Users/gleb/TeNPy/tenpy/tools/optimization.py:307: UserWarning: Couldn't load compiled cython code. Code will run a bit slower.\n",
      "  warnings.warn(\"Couldn't load compiled cython code. Code will run a bit slower.\")\n"
     ]
    }
   ],
   "source": [
    "import numpy as np\n",
    "import scipy\n",
    "import matplotlib.pyplot as plt\n",
    "np.set_printoptions(precision=5, suppress=True, linewidth=100)\n",
    "plt.rcParams['figure.dpi'] = 150\n",
    "from scipy.io import savemat\n",
    "from tenpy.tools.params import get_parameter\n",
    "from matplotlib import colors\n",
    "import sys\n",
    "from tenpy.models.lattice import Lattice"
   ]
  },
  {
   "cell_type": "code",
   "execution_count": 2,
   "metadata": {},
   "outputs": [],
   "source": [
    "import tenpy\n",
    "import tenpy.linalg.np_conserved as npc\n",
    "from tenpy.algorithms import dmrg\n",
    "from tenpy.networks.mps import MPS\n",
    "from tenpy.models.tf_ising import TFIChain\n",
    "tenpy.tools.misc.setup_logging(to_stdout=\"INFO\")\n",
    "import pickle"
   ]
  },
  {
   "cell_type": "code",
   "execution_count": 3,
   "metadata": {},
   "outputs": [],
   "source": [
    "from tenpy.networks.mps import MPS\n",
    "from tenpy.models.tf_ising import TFIChain\n",
    "from tenpy.algorithms import dmrg\n",
    "\n",
    "from tenpy.networks.site import SpinSite, SpinHalfSite, SpinHalfFermionSite, FermionSite\n",
    "from tenpy.models.lattice import Triangular, Square, Chain\n",
    "from tenpy.models.model import CouplingModel, NearestNeighborModel, MPOModel, CouplingMPOModel"
   ]
  },
  {
   "cell_type": "markdown",
   "metadata": {},
   "source": [
    "# Real space class model"
   ]
  },
  {
   "cell_type": "code",
   "execution_count": 17,
   "metadata": {},
   "outputs": [],
   "source": [
    "''' Fermi-Hubbard model '''\n",
    "\n",
    "class Spinless_real(CouplingModel, MPOModel):\n",
    "    def __init__(self, model_param):\n",
    "        \n",
    "        ''' system size '''\n",
    "        Lx = model_param[\"Lx\"]\n",
    "        Ly = model_param[\"Ly\"]\n",
    "        \n",
    "        ''' coupling constants'''\n",
    "        t = model_param[\"t\"]\n",
    "        V = model_param[\"V\"]\n",
    "                \n",
    "        ''' boundary conditions'''\n",
    "        bc_MPS = model_param[\"bc_MPS\"]\n",
    "        bc_y = model_param[\"bc_y\"]\n",
    "        bc_x = model_param[\"bc_x\"]\n",
    "        \n",
    "        ''' site with particle + U(1) symmetry conservation'''\n",
    "        site = FermionSite(conserve='N', filling = 0.5)\n",
    "        \n",
    "        ''' define triangular lattice'''\n",
    "        lat = Triangular(Lx, Ly, site, bc=[bc_x, bc_y], bc_MPS=bc_MPS)   \n",
    "        \n",
    "        CouplingModel.__init__(self, lat)\n",
    "        \n",
    "        dR1 = [1,0]\n",
    "        dR2 = [0,1]\n",
    "        dR2m1 = [1,-1]\n",
    "        \n",
    "        if model_param[\"flux\"]:\n",
    "            \n",
    "            '''hoppings along x'''\n",
    "            hops_along_x = (-t) * np.array([[-1j] * Ly, [-1j] * Ly])\n",
    "            self.add_coupling(hops_along_x, 0, 'Cd', 0,'C', dR1, plus_hc=True)\n",
    "            \n",
    "            ''' density-density interaction along x'''\n",
    "            self.add_coupling(V, 0, 'N', 0,'N', dR1)\n",
    "            \n",
    "            \n",
    "            \n",
    "            '''hoppings along y'''\n",
    "            hops_along_y = (-t) * np.array([[1] * Ly, [-1] * Ly])\n",
    "            self.add_coupling(hops_along_y,0,'Cd',0,'C',dR2, plus_hc=True)\n",
    "            \n",
    "            ''' density-density interaction along y'''\n",
    "            self.add_coupling(V, 0, 'N', 0,'N', dR2)\n",
    "            \n",
    "            \n",
    "            '''hoppings along diag'''\n",
    "            hops_diag = (-t) * np.array([[-1] * Ly, [1] * Ly])\n",
    "            self.add_coupling(hops_diag,0,'Cd',0,'C', dR2m1, plus_hc=True)\n",
    "            \n",
    "            ''' density-density interaction along diag'''\n",
    "            self.add_coupling(V, 0, 'N', 0,'N', dR2m1)\n",
    "        \n",
    "        else:\n",
    "            \n",
    "            '''hoppings along x'''\n",
    "            hops_along_x = (-t) \n",
    "            self.add_coupling(hops_along_x, 0, 'Cd', 0,'C', dR1, plus_hc=True)\n",
    "            \n",
    "            ''' density-density interaction along x'''\n",
    "            self.add_coupling(V, 0, 'N', 0,'N', dR1)\n",
    "            \n",
    "            \n",
    "            \n",
    "            '''hoppings along y'''\n",
    "            hops_along_y = (-t) \n",
    "            self.add_coupling(hops_along_y,0,'Cd',0,'C',dR2, plus_hc=True)\n",
    "            \n",
    "            ''' density-density interaction along y'''\n",
    "            self.add_coupling(V, 0, 'N', 0,'N', dR2)\n",
    "            \n",
    "            \n",
    "            '''hoppings along diag'''\n",
    "            hops_diag = (-t) \n",
    "            self.add_coupling(hops_diag,0,'Cd',0,'C', dR2m1, plus_hc=True)\n",
    "            \n",
    "            ''' density-density interaction along diag'''\n",
    "            self.add_coupling(V, 0, 'N', 0,'N', dR2m1)\n",
    "            \n",
    "\n",
    "        MPOModel.__init__(self, lat, self.calc_H_MPO())\n",
    "        \n",
    "        # plot system grid \n",
    "        \n",
    "        ax = plt.gca()\n",
    "        lat.plot_sites(ax)\n",
    "        lat.plot_coupling(ax, lat.pairs['next_nearest_neighbors'], linestyle=':', color='r')"
   ]
  },
  {
   "cell_type": "code",
   "execution_count": 11,
   "metadata": {},
   "outputs": [],
   "source": [
    "# if flux = True, put Lx = 2\n",
    "# if flux = False, put Lx = 1\n",
    "\n",
    "model_param = {\"Lattice\" : Triangular,\n",
    "              \"Ly\" : 6,\n",
    "              \"Lx\" : 3,\n",
    "              \"t\" : 1.0,\n",
    "              \"V\" : 4.0,\n",
    "              \"fraction\" : 2,\n",
    "              \"bc_MPS\" : \"infinite\",\n",
    "              \"bc_y\" : 'periodic',\n",
    "              \"bc_x\" : 'periodic',\n",
    "              \"flux\" : False}\n",
    "\n",
    "# chi_list = tenpy.algorithms.dmrg.chi_list(1000, dchi=500, nsweeps=20)\n",
    "chi_list = {0:200, 20:400, 40:800}\n",
    "dmrg_params = {\"trunc_params\": {\"chi_max\": 1000, \"svd_min\": 1.e-10}, \"mixer\": True, \"chi_list\" : chi_list,\"max_sweeps\": 90}"
   ]
  },
  {
   "cell_type": "markdown",
   "metadata": {},
   "source": [
    "# Define model and initial state"
   ]
  },
  {
   "cell_type": "code",
   "execution_count": 13,
   "metadata": {},
   "outputs": [
    {
     "data": {
      "image/png": "[encoded data removed]",
      "text/plain": [
       "<Figure size 900x600 with 1 Axes>"
      ]
     },
     "metadata": {
      "needs_background": "light"
     },
     "output_type": "display_data"
    }
   ],
   "source": [
    "M = Spinless_real(model_param)\n",
    "sites = M.lat.mps_sites()\n",
    "# psi = MPS.from_product_state(sites,[\"full\",\"empty\",\"empty\",\n",
    "#                                     \"full\",\"empty\",\"empty\",\n",
    "#                                     \"empty\",\"full\",\"empty\",\n",
    "#                                     \"empty\",\"full\",\"empty\",\n",
    "#                                     \"empty\",\"empty\",\"full\",\n",
    "#                                     \"empty\",\"empty\",\"full\"],\"infinite\")\n",
    "psi = MPS.from_product_state(sites,[\"full\",\"full\",\"full\",\n",
    "                                    \"full\",\"full\",\"full\",\n",
    "                                    \"empty\",\"empty\",\"empty\",\n",
    "                                    \"empty\",\"empty\",\"empty\",\n",
    "                                    \"empty\",\"empty\",\"empty\",\n",
    "                                    \"empty\",\"empty\",\"empty\"],\"infinite\")"
   ]
  },
  {
   "cell_type": "markdown",
   "metadata": {},
   "source": [
    "# Check coupling terms "
   ]
  },
  {
   "cell_type": "code",
   "execution_count": 14,
   "metadata": {},
   "outputs": [
    {
     "name": "stdout",
     "output_type": "stream",
     "text": [
      "-1.00000 * Cd JW_0 C_1 +\n",
      "-1.00000 * Cd JW_0 C_5 +\n",
      "-1.00000 * Cd JW_0 C_6 +\n",
      "-1.00000 * Cd JW_0 C_11 +\n",
      "-1.00000 * JW C_0 Cd_1 +\n",
      "-1.00000 * JW C_0 Cd_5 +\n",
      "-1.00000 * JW C_0 Cd_6 +\n",
      "-1.00000 * JW C_0 Cd_11 +\n",
      "4.00000 * N_0 N_1 +\n",
      "4.00000 * N_0 N_5 +\n",
      "4.00000 * N_0 N_6 +\n",
      "4.00000 * N_0 N_11 +\n",
      "-1.00000 * Cd JW_1 C_2 +\n",
      "-1.00000 * Cd JW_1 C_6 +\n",
      "-1.00000 * Cd JW_1 C_7 +\n",
      "-1.00000 * JW C_1 Cd_2 +\n",
      "-1.00000 * JW C_1 Cd_6 +\n",
      "-1.00000 * JW C_1 Cd_7 +\n",
      "4.00000 * N_1 N_2 +\n",
      "4.00000 * N_1 N_6 +\n",
      "4.00000 * N_1 N_7 +\n",
      "-1.00000 * Cd JW_2 C_3 +\n",
      "-1.00000 * Cd JW_2 C_7 +\n",
      "-1.00000 * Cd JW_2 C_8 +\n",
      "-1.00000 * JW C_2 Cd_3 +\n",
      "-1.00000 * JW C_2 Cd_7 +\n",
      "-1.00000 * JW C_2 Cd_8 +\n",
      "4.00000 * N_2 N_3 +\n",
      "4.00000 * N_2 N_7 +\n",
      "4.00000 * N_2 N_8 +\n",
      "-1.00000 * Cd JW_3 C_4 +\n",
      "-1.00000 * Cd JW_3 C_8 +\n",
      "-1.00000 * Cd JW_3 C_9 +\n",
      "-1.00000 * JW C_3 Cd_4 +\n",
      "-1.00000 * JW C_3 Cd_8 +\n",
      "-1.00000 * JW C_3 Cd_9 +\n",
      "4.00000 * N_3 N_4 +\n",
      "4.00000 * N_3 N_8 +\n",
      "4.00000 * N_3 N_9 +\n",
      "-1.00000 * Cd JW_4 C_5 +\n",
      "-1.00000 * Cd JW_4 C_9 +\n",
      "-1.00000 * Cd JW_4 C_10 +\n",
      "-1.00000 * JW C_4 Cd_5 +\n",
      "-1.00000 * JW C_4 Cd_9 +\n",
      "-1.00000 * JW C_4 Cd_10 +\n",
      "4.00000 * N_4 N_5 +\n",
      "4.00000 * N_4 N_9 +\n",
      "4.00000 * N_4 N_10 +\n",
      "-1.00000 * Cd JW_5 C_10 +\n",
      "-1.00000 * Cd JW_5 C_11 +\n",
      "-1.00000 * JW C_5 Cd_10 +\n",
      "-1.00000 * JW C_5 Cd_11 +\n",
      "4.00000 * N_5 N_10 +\n",
      "4.00000 * N_5 N_11 +\n",
      "-1.00000 * Cd JW_6 C_7 +\n",
      "-1.00000 * Cd JW_6 C_11 +\n",
      "-1.00000 * Cd JW_6 C_12 +\n",
      "-1.00000 * Cd JW_6 C_17 +\n",
      "-1.00000 * JW C_6 Cd_7 +\n",
      "-1.00000 * JW C_6 Cd_11 +\n",
      "-1.00000 * JW C_6 Cd_12 +\n",
      "-1.00000 * JW C_6 Cd_17 +\n",
      "4.00000 * N_6 N_7 +\n",
      "4.00000 * N_6 N_11 +\n",
      "4.00000 * N_6 N_12 +\n",
      "4.00000 * N_6 N_17 +\n",
      "-1.00000 * Cd JW_7 C_8 +\n",
      "-1.00000 * Cd JW_7 C_12 +\n",
      "-1.00000 * Cd JW_7 C_13 +\n",
      "-1.00000 * JW C_7 Cd_8 +\n",
      "-1.00000 * JW C_7 Cd_12 +\n",
      "-1.00000 * JW C_7 Cd_13 +\n",
      "4.00000 * N_7 N_8 +\n",
      "4.00000 * N_7 N_12 +\n",
      "4.00000 * N_7 N_13 +\n",
      "-1.00000 * Cd JW_8 C_9 +\n",
      "-1.00000 * Cd JW_8 C_13 +\n",
      "-1.00000 * Cd JW_8 C_14 +\n",
      "-1.00000 * JW C_8 Cd_9 +\n",
      "-1.00000 * JW C_8 Cd_13 +\n",
      "-1.00000 * JW C_8 Cd_14 +\n",
      "4.00000 * N_8 N_9 +\n",
      "4.00000 * N_8 N_13 +\n",
      "4.00000 * N_8 N_14 +\n",
      "-1.00000 * Cd JW_9 C_10 +\n",
      "-1.00000 * Cd JW_9 C_14 +\n",
      "-1.00000 * Cd JW_9 C_15 +\n",
      "-1.00000 * JW C_9 Cd_10 +\n",
      "-1.00000 * JW C_9 Cd_14 +\n",
      "-1.00000 * JW C_9 Cd_15 +\n",
      "4.00000 * N_9 N_10 +\n",
      "4.00000 * N_9 N_14 +\n",
      "4.00000 * N_9 N_15 +\n",
      "-1.00000 * Cd JW_10 C_11 +\n",
      "-1.00000 * Cd JW_10 C_15 +\n",
      "-1.00000 * Cd JW_10 C_16 +\n",
      "-1.00000 * JW C_10 Cd_11 +\n",
      "-1.00000 * JW C_10 Cd_15 +\n",
      "-1.00000 * JW C_10 Cd_16 +\n",
      "4.00000 * N_10 N_11 +\n",
      "4.00000 * N_10 N_15 +\n",
      "4.00000 * N_10 N_16 +\n",
      "-1.00000 * Cd JW_11 C_16 +\n",
      "-1.00000 * Cd JW_11 C_17 +\n",
      "-1.00000 * JW C_11 Cd_16 +\n",
      "-1.00000 * JW C_11 Cd_17 +\n",
      "4.00000 * N_11 N_16 +\n",
      "4.00000 * N_11 N_17 +\n",
      "-1.00000 * Cd JW_12 C_13 +\n",
      "-1.00000 * Cd JW_12 C_17 +\n",
      "-1.00000 * Cd JW_12 C_18 +\n",
      "-1.00000 * Cd JW_12 C_23 +\n",
      "-1.00000 * JW C_12 Cd_13 +\n",
      "-1.00000 * JW C_12 Cd_17 +\n",
      "-1.00000 * JW C_12 Cd_18 +\n",
      "-1.00000 * JW C_12 Cd_23 +\n",
      "4.00000 * N_12 N_13 +\n",
      "4.00000 * N_12 N_17 +\n",
      "4.00000 * N_12 N_18 +\n",
      "4.00000 * N_12 N_23 +\n",
      "-1.00000 * Cd JW_13 C_14 +\n",
      "-1.00000 * Cd JW_13 C_18 +\n",
      "-1.00000 * Cd JW_13 C_19 +\n",
      "-1.00000 * JW C_13 Cd_14 +\n",
      "-1.00000 * JW C_13 Cd_18 +\n",
      "-1.00000 * JW C_13 Cd_19 +\n",
      "4.00000 * N_13 N_14 +\n",
      "4.00000 * N_13 N_18 +\n",
      "4.00000 * N_13 N_19 +\n",
      "-1.00000 * Cd JW_14 C_15 +\n",
      "-1.00000 * Cd JW_14 C_19 +\n",
      "-1.00000 * Cd JW_14 C_20 +\n",
      "-1.00000 * JW C_14 Cd_15 +\n",
      "-1.00000 * JW C_14 Cd_19 +\n",
      "-1.00000 * JW C_14 Cd_20 +\n",
      "4.00000 * N_14 N_15 +\n",
      "4.00000 * N_14 N_19 +\n",
      "4.00000 * N_14 N_20 +\n",
      "-1.00000 * Cd JW_15 C_16 +\n",
      "-1.00000 * Cd JW_15 C_20 +\n",
      "-1.00000 * Cd JW_15 C_21 +\n",
      "-1.00000 * JW C_15 Cd_16 +\n",
      "-1.00000 * JW C_15 Cd_20 +\n",
      "-1.00000 * JW C_15 Cd_21 +\n",
      "4.00000 * N_15 N_16 +\n",
      "4.00000 * N_15 N_20 +\n",
      "4.00000 * N_15 N_21 +\n",
      "-1.00000 * Cd JW_16 C_17 +\n",
      "-1.00000 * Cd JW_16 C_21 +\n",
      "-1.00000 * Cd JW_16 C_22 +\n",
      "-1.00000 * JW C_16 Cd_17 +\n",
      "-1.00000 * JW C_16 Cd_21 +\n",
      "-1.00000 * JW C_16 Cd_22 +\n",
      "4.00000 * N_16 N_17 +\n",
      "4.00000 * N_16 N_21 +\n",
      "4.00000 * N_16 N_22 +\n",
      "-1.00000 * Cd JW_17 C_22 +\n",
      "-1.00000 * Cd JW_17 C_23 +\n",
      "-1.00000 * JW C_17 Cd_22 +\n",
      "-1.00000 * JW C_17 Cd_23 +\n",
      "4.00000 * N_17 N_22 +\n",
      "4.00000 * N_17 N_23\n"
     ]
    }
   ],
   "source": [
    "# print hopping terms\n",
    "print(M.all_coupling_terms().to_TermList())"
   ]
  },
  {
   "cell_type": "markdown",
   "metadata": {},
   "source": [
    "# Check onsite terms"
   ]
  },
  {
   "cell_type": "code",
   "execution_count": 15,
   "metadata": {},
   "outputs": [
    {
     "name": "stdout",
     "output_type": "stream",
     "text": [
      "\n"
     ]
    }
   ],
   "source": [
    "# print on-site terms\n",
    "print(M.all_onsite_terms().to_TermList())"
   ]
  },
  {
   "cell_type": "markdown",
   "metadata": {},
   "source": [
    "# Run DMRG"
   ]
  },
  {
   "cell_type": "code",
   "execution_count": 16,
   "metadata": {
    "scrolled": false
   },
   "outputs": [
    {
     "name": "stdout",
     "output_type": "stream",
     "text": [
      "INFO    : DMRG: subconfig 'trunc_params'=Config(<2 options>, 'trunc_params')\n",
      "INFO    : DMRG: reading 'chi_list'={0: 200, 20: 400, 40: 800}\n",
      "INFO    : start environment_sweep\n",
      "INFO    : trunc_params: reading 'chi_max'=1000\n",
      "INFO    : trunc_params: reading 'svd_min'=1e-10\n",
      "INFO    : DMRG: reading 'max_sweeps'=90\n",
      "INFO    : DMRG: reading 'mixer'=True\n",
      "INFO    : activate DensityMatrixMixer with initial amplitude 1.0e-05\n",
      "INFO    : Running sweep with optimization\n",
      "INFO    : activate DensityMatrixMixer with initial amplitude 1.0e-05\n",
      "INFO    : Setting chi_max=200\n",
      "INFO    : start environment_sweep\n",
      "INFO    : checkpoint after sweep 10\n",
      "energy=-0.2926381590250213, max S=0.8539100336564587, age=594, norm_err=4.5e-08\n",
      "Current memory usage 442144.0MB, wall time: 350.5s\n",
      "Delta E = nan, Delta S = 8.2404e-02 (per sweep)\n",
      "max trunc_err = 7.4297e-07, max E_trunc = 1.0207e-05\n",
      "chi: [200, 200, 200, 200, 200, 200, 200, 200, 200, 200, 200, 200, 200, 200, 200, 200, 200, 200]\n",
      "================================================================================\n",
      "INFO    : Running sweep with optimization\n",
      "INFO    : disable mixer after 15 sweeps, final amplitude 3.05e-10\n",
      "INFO    : start environment_sweep\n",
      "INFO    : checkpoint after sweep 20\n",
      "energy=-0.2926382600739383, max S=0.8538818454210810, age=1134, norm_err=5.1e-14\n",
      "Current memory usage 442144.0MB, wall time: 84.3s\n",
      "Delta E = -1.0105e-08, Delta S = -2.9205e-06 (per sweep)\n",
      "max trunc_err = 3.4316e-07, max E_trunc = 9.6923e-06\n",
      "chi: [200, 200, 200, 200, 200, 200, 200, 200, 200, 200, 200, 200, 200, 200, 200, 200, 200, 200]\n",
      "================================================================================\n",
      "INFO    : Running sweep with optimization\n",
      "INFO    : activate DensityMatrixMixer with initial amplitude 1.0e-05\n",
      "INFO    : Setting chi_max=400\n",
      "INFO    : start environment_sweep\n",
      "INFO    : checkpoint after sweep 30\n",
      "energy=-0.2926528283325038, max S=0.8547886596192831, age=1674, norm_err=1.1e-08\n",
      "Current memory usage 442144.0MB, wall time: 373.7s\n",
      "Delta E = -1.4568e-06, Delta S = 9.0343e-05 (per sweep)\n",
      "max trunc_err = 7.1926e-08, max E_trunc = 1.1023e-06\n",
      "chi: [400, 400, 400, 400, 400, 400, 400, 400, 400, 400, 400, 400, 400, 400, 400, 400, 400, 400]\n",
      "================================================================================\n",
      "INFO    : Running sweep with optimization\n",
      "INFO    : disable mixer after 35 sweeps, final amplitude 3.05e-10\n",
      "INFO    : start environment_sweep\n",
      "INFO    : checkpoint after sweep 40\n",
      "energy=-0.2926528559703172, max S=0.8547893292665958, age=2214, norm_err=3.7e-14\n",
      "Current memory usage 442144.0MB, wall time: 287.9s\n",
      "Delta E = -2.7638e-09, Delta S = 5.5568e-08 (per sweep)\n",
      "max trunc_err = 3.5348e-08, max E_trunc = 1.0751e-06\n",
      "chi: [400, 400, 400, 400, 400, 400, 400, 400, 400, 400, 400, 400, 400, 400, 400, 400, 400, 400]\n",
      "================================================================================\n",
      "INFO    : Running sweep with optimization\n",
      "INFO    : activate DensityMatrixMixer with initial amplitude 1.0e-05\n",
      "INFO    : Setting chi_max=800\n",
      "INFO    : start environment_sweep\n",
      "INFO    : checkpoint after sweep 50\n",
      "energy=-0.2926542283889988, max S=0.8549106880268610, age=2754, norm_err=2.5e-09\n",
      "Current memory usage 1086948.0MB, wall time: 1277.5s\n",
      "Delta E = -1.3724e-07, Delta S = 1.2072e-05 (per sweep)\n",
      "max trunc_err = 5.2664e-09, max E_trunc = 8.5925e-08\n",
      "chi: [800, 800, 800, 800, 800, 800, 800, 800, 800, 800, 800, 800, 800, 800, 800, 800, 800, 800]\n",
      "================================================================================\n",
      "INFO    : Running sweep with optimization\n",
      "INFO    : disable mixer after 55 sweeps, final amplitude 3.05e-10\n",
      "INFO    : start environment_sweep\n",
      "INFO    : checkpoint after sweep 60\n",
      "energy=-0.2926542351672102, max S=0.8549108468235220, age=3294, norm_err=1.7e-14\n",
      "Current memory usage 1086948.0MB, wall time: 961.2s\n",
      "Delta E = -6.7782e-10, Delta S = 1.1141e-08 (per sweep)\n",
      "max trunc_err = 2.5340e-09, max E_trunc = 8.2657e-08\n",
      "chi: [800, 800, 800, 800, 800, 800, 800, 800, 800, 800, 800, 800, 800, 800, 800, 800, 800, 800]\n",
      "================================================================================\n",
      "INFO    : DMRG finished after 60 sweeps, max chi=800\n"
     ]
    }
   ],
   "source": [
    "info = dmrg.run(psi, M, dmrg_params)\n",
    "energy = info['E']\n",
    "delta_energy = abs(info[\"sweep_statistics\"]['E'][-1] - info[\"sweep_statistics\"]['E'][-2])"
   ]
  },
  {
   "cell_type": "code",
   "execution_count": 18,
   "metadata": {},
   "outputs": [],
   "source": [
    "corr_length = psi.correlation_length()"
   ]
  },
  {
   "cell_type": "markdown",
   "metadata": {},
   "source": [
    "# Check correlation function"
   ]
  },
  {
   "cell_type": "code",
   "execution_count": 19,
   "metadata": {},
   "outputs": [],
   "source": [
    "dist = np.arange(0, 60)\n",
    "charge_corr = np.zeros(len(dist))"
   ]
  },
  {
   "cell_type": "code",
   "execution_count": 20,
   "metadata": {},
   "outputs": [],
   "source": [
    "for i, d in enumerate(dist):\n",
    "    charge_corr[i] = psi.expectation_value_term([('N', 0), ('N', d)])"
   ]
  },
  {
   "cell_type": "code",
   "execution_count": 21,
   "metadata": {},
   "outputs": [
    {
     "data": {
      "text/plain": [
       "Text(0.5, 1.0, 't = 1.0, V = 4.0, corr_length = 5.216227115431228')"
      ]
     },
     "execution_count": 21,
     "metadata": {},
     "output_type": "execute_result"
    },
    {
     "data": {
      "image/png": "[encoded data removed]",
      "text/plain": [
       "<Figure size 900x600 with 1 Axes>"
      ]
     },
     "metadata": {
      "needs_background": "light"
     },
     "output_type": "display_data"
    }
   ],
   "source": [
    "plt.scatter(dist, charge_corr)\n",
    "plt.xlabel('i-j distance')\n",
    "plt.ylabel('<$n_i n_j$>')\n",
    "plt.title(\"t = \" + str(model_param[\"t\"]) + \", V = \" + str(model_param[\"V\"]) + \", corr_length = \" + str(corr_length))\n",
    "# plt.ylim([0, 0.4])\n",
    "# plt.savefig(\"flux_real_conserved_N_Ly_6_Lx_3_1_3_filling.pdf\")"
   ]
  },
  {
   "cell_type": "markdown",
   "metadata": {},
   "source": [
    "# Some benchmark results results"
   ]
  },
  {
   "cell_type": "code",
   "execution_count": null,
   "metadata": {},
   "outputs": [],
   "source": [
    "# SPINLESS REAL\n",
    "# t = 1.57, U =0, [\"full\",\"full\",\"empty\",\"empty\",\"empty\",\"empty\"]: \n",
    "# E = -1.37285904, Delta_E = -3.4541e-03\n",
    "\n",
    "# SPINLESS REAL\n",
    "# t = 1, U =0, [\"full\",\"full\",\"full\",\"empty\",\"empty\",\"empty\"]: \n",
    "# E = -0.7400401134187859, Delta_E = 7.7752e-03"
   ]
  },
  {
   "cell_type": "code",
   "execution_count": null,
   "metadata": {},
   "outputs": [],
   "source": [
    "# mixed space\n",
    "# E = -0.0792901396915204, Delta_E =  -1.2577e-10 V = 13.5\n",
    "# E = -0.0745978751479443, Delta_E =  -9.3526e-11 V = 14.3\n",
    "\n",
    "# real space\n",
    "# E = -0.0792901398669304, Delta_E = -5.1317e-12\n"
   ]
  },
  {
   "cell_type": "code",
   "execution_count": null,
   "metadata": {},
   "outputs": [],
   "source": [
    "# with flux \n",
    "# mixed space\n",
    "# E =-0.0699103562142211, Delta_E = -6.7813e-11 V = 14.3\n",
    "\n",
    "# real space\n",
    "# E = -0.0699103562769644, Delta_E = -3.6672e-14 V =14.3"
   ]
  },
  {
   "cell_type": "markdown",
   "metadata": {},
   "source": [
    "# Some old correlation function attempts"
   ]
  },
  {
   "cell_type": "code",
   "execution_count": null,
   "metadata": {},
   "outputs": [],
   "source": [
    "# for j,d in enumerate(dist):\n",
    "#     print(j)\n",
    "#     x = d // Ly\n",
    "#     for k in range(Ly):\n",
    "#         for l in range(Ly):\n",
    "#             for p in range(Ly):\n",
    "#                 for q in range(Ly):\n",
    "# #                         print(k,l,p,q)\n",
    "# #                         print(np.exp(1j * 2 * np.pi/Ly * (k - l + p - q)) * \\\n",
    "# #                         psi.expectation_value(ops=[\"Cd\",\"C\",\"Cd\",\"C\"], sites=[0 * Ly + k, 0 * Ly + l, x * Ly + p, x * Ly + q]))\n",
    "# #                         charge_corr[j]+=np.exp(1j * 2 * np.pi/Ly * (k - l + p - q)) * \\\n",
    "# #                         psi.expectation_value(ops=[\"Cd\",\"C\",\"Cd\",\"C\"], sites=[0 * Ly + k, 0 * Ly + l, x * Ly + p, x * Ly + q])\n",
    "\n",
    "#                     charge_corr[j]+=np.exp(1j * 2 * np.pi/Ly * (k - l + p - q)) * psi.expectation_value_term([('Cd', k), ('C', l), ('Cd', x * Ly + p), ('C', x * Ly + q)])\n",
    "# plt.figure()\n",
    "# plt.scatter(dist, charge_corr)\n",
    "# #     plt.ylim([0, 0.7])\n",
    "# plt.xlabel('i-j distance')\n",
    "# plt.ylabel('<$n_i n_j$>')   \n",
    "# plt.title(str(U_list[ind]))"
   ]
  }
 ],
 "metadata": {
  "@webio": {
   "lastCommId": null,
   "lastKernelId": null
  },
  "kernelspec": {
   "display_name": "Python 3",
   "language": "python",
   "name": "python3"
  },
  "language_info": {
   "codemirror_mode": {
    "name": "ipython",
    "version": 3
   },
   "file_extension": ".py",
   "mimetype": "text/x-python",
   "name": "python",
   "nbconvert_exporter": "python",
   "pygments_lexer": "ipython3",
   "version": "3.8.5"
  }
 },
 "nbformat": 4,
 "nbformat_minor": 4
}
