{
 "cells": [
  {
   "cell_type": "code",
   "execution_count": 1,
   "metadata": {},
   "outputs": [
    {
     "name": "stderr",
     "output_type": "stream",
     "text": [
      "/Users/gleb/TeNPy/tenpy/tools/optimization.py:307: UserWarning: Couldn't load compiled cython code. Code will run a bit slower.\n",
      "  warnings.warn(\"Couldn't load compiled cython code. Code will run a bit slower.\")\n"
     ]
    }
   ],
   "source": [
    "import numpy as np\n",
    "import scipy\n",
    "import matplotlib.pyplot as plt\n",
    "np.set_printoptions(precision=5, suppress=True, linewidth=100)\n",
    "plt.rcParams['figure.dpi'] = 150\n",
    "from scipy.io import savemat\n",
    "from tenpy.tools.params import get_parameter\n",
    "from matplotlib import colors\n",
    "import sys\n",
    "from tenpy.models.lattice import Lattice"
   ]
  },
  {
   "cell_type": "code",
   "execution_count": 2,
   "metadata": {},
   "outputs": [],
   "source": [
    "import tenpy\n",
    "import tenpy.linalg.np_conserved as npc\n",
    "from tenpy.algorithms import dmrg\n",
    "from tenpy.networks.mps import MPS\n",
    "from tenpy.models.tf_ising import TFIChain\n",
    "tenpy.tools.misc.setup_logging(to_stdout=\"INFO\")\n",
    "import pickle"
   ]
  },
  {
   "cell_type": "code",
   "execution_count": 3,
   "metadata": {},
   "outputs": [],
   "source": [
    "from tenpy.networks.mps import MPS\n",
    "from tenpy.models.tf_ising import TFIChain\n",
    "from tenpy.algorithms import dmrg\n",
    "\n",
    "from tenpy.networks.site import SpinSite, SpinHalfSite, SpinHalfFermionSite, FermionSite\n",
    "from tenpy.models.lattice import Triangular, Square, Chain\n",
    "from tenpy.models.model import CouplingModel, NearestNeighborModel, MPOModel, CouplingMPOModel"
   ]
  },
  {
   "cell_type": "code",
   "execution_count": 4,
   "metadata": {},
   "outputs": [],
   "source": [
    "''' Fermi-Hubbard model '''\n",
    "\n",
    "class Spinless_real(CouplingModel, MPOModel):\n",
    "    def __init__(self, model_param):\n",
    "        \n",
    "        ''' system size '''\n",
    "        Lx = model_param[\"Lx\"]\n",
    "        Ly = model_param[\"Ly\"]\n",
    "        \n",
    "        ''' coupling constants'''\n",
    "        t = model_param[\"t\"]\n",
    "        V = model_param[\"V\"]\n",
    "                \n",
    "        ''' boundary conditions'''\n",
    "        bc_MPS = model_param[\"bc_MPS\"]\n",
    "        bc_y = model_param[\"bc_y\"]\n",
    "        bc_x = model_param[\"bc_x\"]\n",
    "        \n",
    "        ''' site with particle + U(1) symmetry conservation'''\n",
    "        site = FermionSite(conserve='N', filling = 0.5)\n",
    "        \n",
    "        ''' define triangular lattice'''\n",
    "        lat = Triangular(Lx, Ly, site, bc=[bc_x, bc_y], bc_MPS=bc_MPS)   \n",
    "        \n",
    "        CouplingModel.__init__(self, lat)\n",
    "        \n",
    "        dR1 = [1,0]\n",
    "        dR2 = [0,1]\n",
    "        dR2m1 = [1,-1]\n",
    "        \n",
    "        if model_param[\"flux\"]:\n",
    "            \n",
    "            '''hoppings along x'''\n",
    "            hops_along_x = (-t) * np.array([[-1j] * Ly, [-1j] * Ly])\n",
    "            self.add_coupling(hops_along_x, 0, 'Cd', 0,'C', dR1, plus_hc=True)\n",
    "            \n",
    "            ''' density-density interaction along x'''\n",
    "            self.add_coupling(V, 0, 'N', 0,'N', dR1)\n",
    "            \n",
    "            \n",
    "            \n",
    "            '''hoppings along y'''\n",
    "            hops_along_y = (-t) * np.array([[1] * Ly, [-1] * Ly])\n",
    "            self.add_coupling(hops_along_y,0,'Cd',0,'C',dR2, plus_hc=True)\n",
    "            \n",
    "            ''' density-density interaction along y'''\n",
    "            self.add_coupling(V, 0, 'N', 0,'N', dR2)\n",
    "            \n",
    "            \n",
    "            '''hoppings along diag'''\n",
    "            hops_diag = (-t) * np.array([[-1] * Ly, [1] * Ly])\n",
    "            self.add_coupling(hops_diag,0,'Cd',0,'C', dR2m1, plus_hc=True)\n",
    "            \n",
    "            ''' density-density interaction along diag'''\n",
    "            self.add_coupling(V, 0, 'N', 0,'N', dR2m1)\n",
    "        \n",
    "        else:\n",
    "            \n",
    "            '''hoppings along x'''\n",
    "            hops_along_x = (-t) \n",
    "            self.add_coupling(hops_along_x, 0, 'Cd', 0,'C', dR1, plus_hc=True)\n",
    "            \n",
    "            ''' density-density interaction along x'''\n",
    "            self.add_coupling(V, 0, 'N', 0,'N', dR1)\n",
    "            \n",
    "            \n",
    "            \n",
    "            '''hoppings along y'''\n",
    "            hops_along_y = (-t) \n",
    "            self.add_coupling(hops_along_y,0,'Cd',0,'C',dR2, plus_hc=True)\n",
    "            \n",
    "            ''' density-density interaction along y'''\n",
    "            self.add_coupling(V, 0, 'N', 0,'N', dR2)\n",
    "            \n",
    "            \n",
    "            '''hoppings along diag'''\n",
    "            hops_diag = (-t) \n",
    "            self.add_coupling(hops_diag,0,'Cd',0,'C', dR2m1, plus_hc=True)\n",
    "            \n",
    "            ''' density-density interaction along diag'''\n",
    "            self.add_coupling(V, 0, 'N', 0,'N', dR2m1)\n",
    "            \n",
    "\n",
    "        MPOModel.__init__(self, lat, self.calc_H_MPO())\n",
    "        \n",
    "        ax = plt.gca()\n",
    "        lat.plot_sites(ax)\n",
    "        lat.plot_coupling(ax, lat.pairs['next_nearest_neighbors'], linestyle=':', color='r')"
   ]
  },
  {
   "cell_type": "code",
   "execution_count": 5,
   "metadata": {},
   "outputs": [],
   "source": [
    "# if flux = True, put Lx = 2\n",
    "# if flux = False, put Lx = 1\n",
    "\n",
    "model_param = {\"Lattice\" : Triangular,\n",
    "              \"Ly\" : 6,\n",
    "              \"Lx\" : 1,\n",
    "              \"t\" : 1.0,\n",
    "              \"V\" : 15.0,\n",
    "              \"fraction\" : 2,\n",
    "              \"bc_MPS\" : \"infinite\",\n",
    "              \"bc_y\" : 'periodic',\n",
    "              \"bc_x\" : 'periodic',\n",
    "              \"flux\" : False}\n",
    "\n",
    "# chi_list = tenpy.algorithms.dmrg.chi_list(1000, dchi=500, nsweeps=20)\n",
    "chi_list = {0:200, 20:500, 40:1000}\n",
    "dmrg_params = {\"trunc_params\": {\"chi_max\": 1000, \"svd_min\": 1.e-10}, \"mixer\": True, \"chi_list\" : chi_list,\"max_sweeps\": 90}"
   ]
  },
  {
   "cell_type": "code",
   "execution_count": 6,
   "metadata": {},
   "outputs": [
    {
     "data": {
      "text/plain": [
       "{0: 200, 20: 500, 40: 1000}"
      ]
     },
     "execution_count": 6,
     "metadata": {},
     "output_type": "execute_result"
    }
   ],
   "source": [
    "chi_list"
   ]
  },
  {
   "cell_type": "code",
   "execution_count": 7,
   "metadata": {},
   "outputs": [
    {
     "data": {
      "image/png": "[encoded data removed]",
      "text/plain": [
       "<Figure size 900x600 with 1 Axes>"
      ]
     },
     "metadata": {
      "needs_background": "light"
     },
     "output_type": "display_data"
    }
   ],
   "source": [
    "M = Spinless_real(model_param)\n",
    "sites = M.lat.mps_sites()\n",
    "psi = MPS.from_product_state(sites,[\"full\",\"empty\",\"empty\"]*2,\"infinite\")"
   ]
  },
  {
   "cell_type": "code",
   "execution_count": 18,
   "metadata": {},
   "outputs": [
    {
     "name": "stdout",
     "output_type": "stream",
     "text": [
      "-1.00000 * Cd JW_0 C_1 +\n",
      "-1.00000 * Cd JW_0 C_5 +\n",
      "-1.00000 * Cd JW_0 C_6 +\n",
      "-1.00000 * Cd JW_0 C_11 +\n",
      "-1.00000 * JW C_0 Cd_1 +\n",
      "-1.00000 * JW C_0 Cd_5 +\n",
      "-1.00000 * JW C_0 Cd_6 +\n",
      "-1.00000 * JW C_0 Cd_11 +\n",
      "15.00000 * N_0 N_1 +\n",
      "15.00000 * N_0 N_5 +\n",
      "15.00000 * N_0 N_6 +\n",
      "15.00000 * N_0 N_11 +\n",
      "-1.00000 * Cd JW_1 C_2 +\n",
      "-1.00000 * Cd JW_1 C_6 +\n",
      "-1.00000 * Cd JW_1 C_7 +\n",
      "-1.00000 * JW C_1 Cd_2 +\n",
      "-1.00000 * JW C_1 Cd_6 +\n",
      "-1.00000 * JW C_1 Cd_7 +\n",
      "15.00000 * N_1 N_2 +\n",
      "15.00000 * N_1 N_6 +\n",
      "15.00000 * N_1 N_7 +\n",
      "-1.00000 * Cd JW_2 C_3 +\n",
      "-1.00000 * Cd JW_2 C_7 +\n",
      "-1.00000 * Cd JW_2 C_8 +\n",
      "-1.00000 * JW C_2 Cd_3 +\n",
      "-1.00000 * JW C_2 Cd_7 +\n",
      "-1.00000 * JW C_2 Cd_8 +\n",
      "15.00000 * N_2 N_3 +\n",
      "15.00000 * N_2 N_7 +\n",
      "15.00000 * N_2 N_8 +\n",
      "-1.00000 * Cd JW_3 C_4 +\n",
      "-1.00000 * Cd JW_3 C_8 +\n",
      "-1.00000 * Cd JW_3 C_9 +\n",
      "-1.00000 * JW C_3 Cd_4 +\n",
      "-1.00000 * JW C_3 Cd_8 +\n",
      "-1.00000 * JW C_3 Cd_9 +\n",
      "15.00000 * N_3 N_4 +\n",
      "15.00000 * N_3 N_8 +\n",
      "15.00000 * N_3 N_9 +\n",
      "-1.00000 * Cd JW_4 C_5 +\n",
      "-1.00000 * Cd JW_4 C_9 +\n",
      "-1.00000 * Cd JW_4 C_10 +\n",
      "-1.00000 * JW C_4 Cd_5 +\n",
      "-1.00000 * JW C_4 Cd_9 +\n",
      "-1.00000 * JW C_4 Cd_10 +\n",
      "15.00000 * N_4 N_5 +\n",
      "15.00000 * N_4 N_9 +\n",
      "15.00000 * N_4 N_10 +\n",
      "-1.00000 * Cd JW_5 C_10 +\n",
      "-1.00000 * Cd JW_5 C_11 +\n",
      "-1.00000 * JW C_5 Cd_10 +\n",
      "-1.00000 * JW C_5 Cd_11 +\n",
      "15.00000 * N_5 N_10 +\n",
      "15.00000 * N_5 N_11\n"
     ]
    }
   ],
   "source": [
    "# print hopping terms\n",
    "print(M.all_coupling_terms().to_TermList())"
   ]
  },
  {
   "cell_type": "code",
   "execution_count": 19,
   "metadata": {},
   "outputs": [
    {
     "name": "stdout",
     "output_type": "stream",
     "text": [
      "\n"
     ]
    }
   ],
   "source": [
    "# print on-site terms\n",
    "print(M.all_onsite_terms().to_TermList())"
   ]
  },
  {
   "cell_type": "code",
   "execution_count": 8,
   "metadata": {},
   "outputs": [
    {
     "name": "stdout",
     "output_type": "stream",
     "text": [
      "INFO    : DMRG: subconfig 'trunc_params'=Config(<2 options>, 'trunc_params')\n",
      "INFO    : DMRG: reading 'chi_list'={0: 200, 20: 500, 40: 1000}\n",
      "INFO    : start environment_sweep\n",
      "INFO    : trunc_params: reading 'chi_max'=1000\n",
      "INFO    : trunc_params: reading 'svd_min'=1e-10\n",
      "INFO    : DMRG: reading 'max_sweeps'=90\n",
      "INFO    : DMRG: reading 'mixer'=True\n",
      "INFO    : activate DensityMatrixMixer with initial amplitude 1.0e-05\n",
      "INFO    : Running sweep with optimization\n",
      "INFO    : activate DensityMatrixMixer with initial amplitude 1.0e-05\n",
      "INFO    : Setting chi_max=200\n",
      "INFO    : start environment_sweep\n",
      "INFO    : checkpoint after sweep 10\n",
      "energy=7.5114860987873540, max S=1.2478682790706055, age=198, norm_err=1.4e-01\n",
      "Current memory usage 201084.0MB, wall time: 129.2s\n",
      "Delta E = nan, Delta S = 1.1719e-01 (per sweep)\n",
      "max trunc_err = 6.9866e-09, max E_trunc = 1.4672e-08\n",
      "chi: [200, 200, 200, 200, 200, 200]\n",
      "================================================================================\n",
      "INFO    : Running sweep with optimization\n",
      "INFO    : disable mixer after 15 sweeps, final amplitude 3.05e-10\n",
      "INFO    : start environment_sweep\n",
      "INFO    : checkpoint after sweep 20\n",
      "energy=4.7532972616988998, max S=2.3659019688760643, age=378, norm_err=3.6e-02\n",
      "Current memory usage 208024.0MB, wall time: 127.4s\n",
      "Delta E = -2.7582e-01, Delta S = 1.0699e-01 (per sweep)\n",
      "max trunc_err = 4.1736e-09, max E_trunc = 6.6747e-09\n",
      "chi: [200, 200, 200, 200, 200, 200]\n",
      "================================================================================\n",
      "INFO    : Running sweep with optimization\n",
      "INFO    : activate DensityMatrixMixer with initial amplitude 1.0e-05\n",
      "INFO    : Setting chi_max=500\n",
      "INFO    : start environment_sweep\n",
      "INFO    : checkpoint after sweep 30\n",
      "energy=4.6516042116600529, max S=3.0275946446391866, age=558, norm_err=4.8e-03\n",
      "Current memory usage 439116.0MB, wall time: 650.8s\n",
      "Delta E = -1.0169e-02, Delta S = 6.3197e-02 (per sweep)\n",
      "max trunc_err = 9.8541e-08, max E_trunc = 7.9581e-13\n",
      "chi: [500, 500, 378, 500, 457, 434]\n",
      "================================================================================\n",
      "INFO    : Running sweep with optimization\n",
      "INFO    : disable mixer after 35 sweeps, final amplitude 3.05e-10\n",
      "INFO    : start environment_sweep\n",
      "INFO    : checkpoint after sweep 40\n",
      "energy=4.8235422996050188, max S=3.9439510777879354, age=738, norm_err=1.2e-02\n",
      "Current memory usage 504980.0MB, wall time: 900.8s\n",
      "Delta E = 1.7194e-02, Delta S = 9.6689e-02 (per sweep)\n",
      "max trunc_err = 3.5500e-08, max E_trunc = 4.3201e-12\n",
      "chi: [500, 500, 500, 500, 500, 500]\n",
      "================================================================================\n",
      "INFO    : Running sweep with optimization\n",
      "INFO    : activate DensityMatrixMixer with initial amplitude 1.0e-05\n",
      "INFO    : Setting chi_max=1000\n",
      "INFO    : start environment_sweep\n",
      "INFO    : checkpoint after sweep 50\n",
      "energy=4.6728515903952257, max S=4.2462917042477359, age=918, norm_err=2.0e-02\n",
      "Current memory usage 1495868.0MB, wall time: 3199.9s\n",
      "Delta E = -1.5069e-02, Delta S = 2.7948e-02 (per sweep)\n",
      "max trunc_err = 3.1514e-08, max E_trunc = 2.2737e-13\n",
      "chi: [1000, 1000, 1000, 1000, 1000, 1000]\n",
      "================================================================================\n",
      "INFO    : Running sweep with optimization\n",
      "INFO    : disable mixer after 55 sweeps, final amplitude 3.05e-10\n",
      "INFO    : start environment_sweep\n",
      "INFO    : checkpoint after sweep 60\n",
      "energy=6.2179224255646277, max S=2.5175847799397642, age=1098, norm_err=1.9e-02\n",
      "Current memory usage 1499924.0MB, wall time: 2639.7s\n",
      "Delta E = 1.5451e-01, Delta S = -1.9055e-01 (per sweep)\n",
      "max trunc_err = 2.0669e-09, max E_trunc = 6.8212e-12\n",
      "chi: [1000, 1000, 1000, 1000, 1000, 1000]\n",
      "================================================================================\n",
      "INFO    : Running sweep with optimization\n",
      "INFO    : start environment_sweep\n",
      "INFO    : checkpoint after sweep 70\n",
      "energy=4.5995285253695783, max S=4.5292259275194109, age=1278, norm_err=2.5e-02\n",
      "Current memory usage 1499924.0MB, wall time: 2829.1s\n",
      "Delta E = -1.6184e-01, Delta S = 2.0733e-01 (per sweep)\n",
      "max trunc_err = 4.8659e-09, max E_trunc = -6.2664e-10\n",
      "chi: [1000, 1000, 1000, 1000, 1000, 1000]\n",
      "================================================================================\n",
      "INFO    : Running sweep with optimization\n",
      "INFO    : start environment_sweep\n",
      "INFO    : checkpoint after sweep 80\n",
      "energy=6.4536315508934194, max S=3.7053979276935403, age=1458, norm_err=4.1e-02\n",
      "Current memory usage 1499924.0MB, wall time: 2624.5s\n",
      "Delta E = 1.8541e-01, Delta S = -8.4309e-02 (per sweep)\n",
      "max trunc_err = 3.2889e-09, max E_trunc = 1.3188e-11\n",
      "chi: [665, 602, 506, 529, 523, 559]\n",
      "================================================================================\n",
      "INFO    : Running sweep with optimization\n",
      "INFO    : start environment_sweep\n",
      "INFO    : checkpoint after sweep 90\n",
      "energy=5.9506797229867061, max S=4.3378128625669676, age=1638, norm_err=3.4e-02\n",
      "Current memory usage 1499924.0MB, wall time: 2197.8s\n",
      "Delta E = -5.0295e-02, Delta S = 6.8125e-02 (per sweep)\n",
      "max trunc_err = 1.1130e-08, max E_trunc = 6.3665e-12\n",
      "chi: [999, 998, 1000, 1000, 1000, 999]\n",
      "================================================================================\n",
      "WARNING : final DMRG state not in canonical form up to norm_tol=1.00e-05: norm_err=3.40e-02\n",
      "INFO    : start environment_sweep\n",
      "INFO    : start environment_sweep\n",
      "WARNING : final DMRG state not in canonical form up to norm_tol_final=1.00e-10: norm_err=7.84e-06, calling psi.canonical_form()\n",
      "INFO    : DMRG finished after 90 sweeps, max chi=992\n"
     ]
    }
   ],
   "source": [
    "info = dmrg.run(psi, M, dmrg_params)\n",
    "energy = info['E']\n",
    "delta_energy = abs(info[\"sweep_statistics\"]['E'][-1] - info[\"sweep_statistics\"]['E'][-2])"
   ]
  },
  {
   "cell_type": "code",
   "execution_count": 15,
   "metadata": {},
   "outputs": [],
   "source": [
    "dist = np.arange(0, 30)"
   ]
  },
  {
   "cell_type": "code",
   "execution_count": 16,
   "metadata": {},
   "outputs": [],
   "source": [
    "charge_corr = psi.correlation_function(ops1 = \"N\", ops2 = \"N\", sites1 = [0], sites2 = dist)[0]"
   ]
  },
  {
   "cell_type": "code",
   "execution_count": 17,
   "metadata": {},
   "outputs": [
    {
     "data": {
      "text/plain": [
       "Text(0, 0.5, '<$n_i n_j$>')"
      ]
     },
     "execution_count": 17,
     "metadata": {},
     "output_type": "execute_result"
    },
    {
     "data": {
      "image/png": "[encoded data removed]",
      "text/plain": [
       "<Figure size 900x600 with 1 Axes>"
      ]
     },
     "metadata": {
      "needs_background": "light"
     },
     "output_type": "display_data"
    }
   ],
   "source": [
    "plt.scatter(dist, charge_corr)\n",
    "plt.xlabel('i-j distance')\n",
    "plt.ylabel('<$n_i n_j$>')"
   ]
  },
  {
   "cell_type": "code",
   "execution_count": 12,
   "metadata": {},
   "outputs": [],
   "source": [
    "# Ly =6, Lx = 2, t = 1, U = 3, chi_max = 500, E = -0.1965750299511294 Delta E = 7.0071e-05"
   ]
  },
  {
   "cell_type": "code",
   "execution_count": null,
   "metadata": {},
   "outputs": [],
   "source": []
  },
  {
   "cell_type": "code",
   "execution_count": 13,
   "metadata": {},
   "outputs": [],
   "source": [
    "# with open('data_spinless_real_U_3.0.pkl', 'rb')  as f:\n",
    "#     data_load = pickle.load(f)\n",
    "\n",
    "# data_load['Delta Energy']"
   ]
  },
  {
   "cell_type": "code",
   "execution_count": 14,
   "metadata": {},
   "outputs": [],
   "source": [
    "# SPINLESS REAL\n",
    "# t = 1.57, U =0, [\"full\",\"full\",\"empty\",\"empty\",\"empty\",\"empty\"]: \n",
    "# E = -1.37285904, Delta_E = -3.4541e-03"
   ]
  }
 ],
 "metadata": {
  "@webio": {
   "lastCommId": null,
   "lastKernelId": null
  },
  "kernelspec": {
   "display_name": "Python 3",
   "language": "python",
   "name": "python3"
  },
  "language_info": {
   "codemirror_mode": {
    "name": "ipython",
    "version": 3
   },
   "file_extension": ".py",
   "mimetype": "text/x-python",
   "name": "python",
   "nbconvert_exporter": "python",
   "pygments_lexer": "ipython3",
   "version": "3.8.5"
  }
 },
 "nbformat": 4,
 "nbformat_minor": 4
}
