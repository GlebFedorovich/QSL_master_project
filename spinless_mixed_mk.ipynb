{
 "cells": [
  {
   "cell_type": "code",
   "execution_count": 1,
   "metadata": {},
   "outputs": [
    {
     "name": "stderr",
     "output_type": "stream",
     "text": [
      "/Users/gleb/TeNPy/tenpy/tools/optimization.py:307: UserWarning: Couldn't load compiled cython code. Code will run a bit slower.\n",
      "  warnings.warn(\"Couldn't load compiled cython code. Code will run a bit slower.\")\n"
     ]
    }
   ],
   "source": [
    "import numpy as np\n",
    "import scipy\n",
    "import matplotlib.pyplot as plt\n",
    "np.set_printoptions(precision=5, suppress=True, linewidth=100)\n",
    "plt.rcParams['figure.dpi'] = 150\n",
    "from scipy.io import savemat\n",
    "from tenpy.tools.params import get_parameter\n",
    "from matplotlib import colors\n",
    "import matplotlib.pyplot as plt\n",
    "import sys\n",
    "from tenpy.models.mixed_xk import MixedXKLattice"
   ]
  },
  {
   "cell_type": "code",
   "execution_count": 2,
   "metadata": {},
   "outputs": [],
   "source": [
    "import tenpy\n",
    "import tenpy.linalg.np_conserved as npc\n",
    "from tenpy.algorithms import dmrg\n",
    "from tenpy.networks.mps import MPS\n",
    "from tenpy.models.tf_ising import TFIChain\n",
    "tenpy.tools.misc.setup_logging(to_stdout=\"INFO\")\n",
    "import pickle\n",
    "from tenpy.tools.misc import to_array, inverse_permutation, to_iterable"
   ]
  },
  {
   "cell_type": "code",
   "execution_count": 3,
   "metadata": {},
   "outputs": [],
   "source": [
    "from tenpy.networks.mps import MPS\n",
    "from tenpy.models.tf_ising import TFIChain\n",
    "from tenpy.algorithms import dmrg\n",
    "from tenpy.networks.site import SpinSite, SpinHalfSite, SpinHalfFermionSite, FermionSite\n",
    "from tenpy.models.lattice import Triangular, Square\n",
    "from tenpy.models.model import CouplingModel, NearestNeighborModel, MPOModel"
   ]
  },
  {
   "cell_type": "code",
   "execution_count": 4,
   "metadata": {},
   "outputs": [],
   "source": [
    "''' Fermi-Hubbard model '''\n",
    "\n",
    "class Hubbard_mixed(CouplingModel, MPOModel):\n",
    "    def __init__(self, model_param):\n",
    "        \n",
    "        ''' system size '''\n",
    "        Lx = model_param[\"Lx\"]\n",
    "        Ly = model_param[\"Ly\"]\n",
    "#         Lx = q \n",
    "        \n",
    "        ''' coupling constants'''\n",
    "        t = model_param[\"t\"]\n",
    "        V = model_param[\"V\"]\n",
    "#         phi = model_param[\"phase\"]\n",
    "        \n",
    "        \n",
    "        ''' boundary conditions'''\n",
    "        bc_MPS = model_param[\"bc_MPS\"]\n",
    "        bc_y = model_param[\"bc_y\"]\n",
    "        bc_x = model_param[\"bc_x\"]\n",
    "        \n",
    "        \n",
    "        ''' site with particle + U(1) symmetry conservation'''\n",
    "        site = FermionSite(conserve='N', filling = 0.5)\n",
    "        \n",
    "        ''' define square lattice'''\n",
    "        lat = Square(Lx, Ly, site, bc=[bc_x, bc_y], bc_MPS=bc_MPS)   \n",
    "        \n",
    "\n",
    "        CouplingModel.__init__(self, lat)\n",
    "        \n",
    "        dR1 = [1,0]\n",
    "        \n",
    "        if model_param[\"flux\"]:\n",
    "            \n",
    "            '''hopping terms'''\n",
    "            hops_along_x = (-t) * np.array([-1j + (-1) * np.exp(-1j * 2 * np.pi/Ly * np.arange(Ly)), -1j + np.exp(-1j * 2 * np.pi/Ly * np.arange(Ly))])\n",
    "            hops_y = (-t) * np.array([2 * np.cos(2 * np.pi/Ly * np.arange(Ly)), - 2 * np.cos(2 * np.pi/Ly * np.arange(Ly))])\n",
    "            \n",
    "            self.add_coupling(hops_along_x, 0, 'Cd', 0,'C', dR1, plus_hc=True)\n",
    "            self.add_onsite(hops_y, 0, 'N')\n",
    "         \n",
    "        else:\n",
    "            \n",
    "            '''hopping terms'''\n",
    "            hops_along_x = (-t) * np.array([1 + (+1) * np.exp(-1j * 2 * np.pi/Ly * np.arange(Ly))])\n",
    "            hops_y = (-t) * np.array([2 * np.cos(2 * np.pi/Ly * np.arange(Ly))])\n",
    "            self.add_coupling(hops_along_x, 0, 'Cd', 0,'C', dR1, plus_hc=True)\n",
    "            self.add_onsite(hops_y, 0, 'N')\n",
    "        \n",
    "        ''' density-density interaction'''\n",
    "        for q1 in range(Ly):\n",
    "            for q2 in range(Ly):\n",
    "                dx1 = [0, q1]\n",
    "                dx2 = [0, 0]\n",
    "                dx4 = [0, q2]\n",
    "                dx3 = [0, q2 - q1]\n",
    "\n",
    "                self.add_multi_coupling(V/Ly, [('Cd', [0,q1], 0), ('C', [0,0], 0), ('Cd', [1,q2-q1], 0), ('C', [1,q2], 0)])\n",
    "                self.add_multi_coupling(np.exp(-1j * 2 * np.pi/Ly * q1) * V/Ly, [('Cd', [0,q1], 0), ('C', [0,0], 0), ('Cd', [1,q2-q1], 0), ('C', [1,q2], 0)])\n",
    "\n",
    "                if q1 == 0 and q2 == 0:\n",
    "                    dd_interaction = [[V/Ly] * Ly, [V/Ly] * Ly]\n",
    "                    self.add_onsite(dd_interaction, 0, 'N')\n",
    "\n",
    "                else:\n",
    "                    self.add_multi_coupling(np.cos(2 * np.pi/Ly * q1) * V/Ly, [('Cd', dx1, 0), ('C', dx2, 0), ('Cd', dx3, 0), ('C', dx4, 0)])                    \n",
    "        \n",
    "        MPOModel.__init__(self, lat, self.calc_H_MPO())\n",
    "#         ax = plt.gca()\n",
    "#         lat.plot_basis(ax)"
   ]
  },
  {
   "cell_type": "code",
   "execution_count": 5,
   "metadata": {},
   "outputs": [],
   "source": [
    "# if flux = True, Lx = 2\n",
    "# if flux = False, Lx = 1\n",
    "\n",
    "model_param = {\"Lattice\" : Square,\n",
    "              \"Ly\" : 3,\n",
    "              \"Lx\" : 2,\n",
    "              \"t\" : 1.0,\n",
    "              \"V\" : 4.0,\n",
    "              \"fraction\" : 2,\n",
    "              \"bc_MPS\" : \"infinite\",\n",
    "              \"bc_y\" : 'periodic',\n",
    "              \"bc_x\" : 'periodic',\n",
    "              \"flux\" : True}\n",
    "\n",
    "# chi_list = tenpy.algorithms.dmrg.chi_list(500, dchi=200, nsweeps=20)\n",
    "chi_list = {0:200, 20:500, 40:500}\n",
    "dmrg_params = {\"trunc_params\": {\"chi_max\": 500, \"svd_min\": 1.e-10}, \"mixer\": True, \"chi_list\" : chi_list,\"max_sweeps\": 100}"
   ]
  },
  {
   "cell_type": "code",
   "execution_count": 6,
   "metadata": {},
   "outputs": [],
   "source": [
    "M = Hubbard_mixed(model_param)\n",
    "sites = M.lat.mps_sites()\n",
    "psi = MPS.from_product_state(sites,[\"full\",\"full\",\"full\",\"empty\",\"empty\",\"empty\"],\"infinite\")"
   ]
  },
  {
   "cell_type": "code",
   "execution_count": 7,
   "metadata": {},
   "outputs": [
    {
     "name": "stdout",
     "output_type": "stream",
     "text": [
      "INFO    : DMRG: subconfig 'trunc_params'=Config(<2 options>, 'trunc_params')\n",
      "INFO    : DMRG: reading 'chi_list'={0: 200, 20: 500, 40: 500}\n",
      "INFO    : start environment_sweep\n",
      "INFO    : trunc_params: reading 'chi_max'=500\n",
      "INFO    : trunc_params: reading 'svd_min'=1e-10\n",
      "INFO    : DMRG: reading 'max_sweeps'=100\n",
      "INFO    : DMRG: reading 'mixer'=True\n",
      "INFO    : activate DensityMatrixMixer with initial amplitude 1.0e-05\n",
      "INFO    : Running sweep with optimization\n",
      "INFO    : activate DensityMatrixMixer with initial amplitude 1.0e-05\n",
      "INFO    : Setting chi_max=200\n",
      "INFO    : start environment_sweep\n",
      "INFO    : checkpoint after sweep 10\n",
      "energy=1.1988363260860335, max S=1.3969898841408552, age=198, norm_err=2.7e-09\n",
      "Current memory usage 218836.0MB, wall time: 289.4s\n",
      "Delta E = nan, Delta S = 9.8435e-02 (per sweep)\n",
      "max trunc_err = 2.2904e-09, max E_trunc = 2.7593e-08\n",
      "chi: [200, 200, 200, 200, 200, 200]\n",
      "================================================================================\n",
      "INFO    : Running sweep with optimization\n",
      "INFO    : disable mixer after 15 sweeps, final amplitude 3.05e-10\n",
      "INFO    : start environment_sweep\n",
      "INFO    : checkpoint after sweep 20\n",
      "energy=1.1988363212292417, max S=1.3969898471710802, age=378, norm_err=1.3e-12\n",
      "Current memory usage 218836.0MB, wall time: 106.0s\n",
      "Delta E = -4.8568e-10, Delta S = -2.3693e-08 (per sweep)\n",
      "max trunc_err = 9.2832e-10, max E_trunc = 2.2644e-08\n",
      "chi: [200, 200, 200, 200, 200, 200]\n",
      "================================================================================\n",
      "INFO    : Running sweep with optimization\n",
      "INFO    : activate DensityMatrixMixer with initial amplitude 1.0e-05\n",
      "INFO    : Setting chi_max=500\n",
      "INFO    : start environment_sweep\n",
      "INFO    : checkpoint after sweep 30\n",
      "energy=1.1988363030219678, max S=1.3969916375717453, age=558, norm_err=4.8e-11\n",
      "Current memory usage 633616.0MB, wall time: 605.0s\n",
      "Delta E = -1.8207e-09, Delta S = 2.0945e-07 (per sweep)\n",
      "max trunc_err = 6.7157e-12, max E_trunc = 1.0357e-10\n",
      "chi: [500, 500, 500, 500, 500, 500]\n",
      "================================================================================\n",
      "INFO    : Running sweep with optimization\n",
      "INFO    : disable mixer after 35 sweeps, final amplitude 3.05e-10\n",
      "INFO    : start environment_sweep\n",
      "INFO    : checkpoint after sweep 40\n",
      "energy=1.1988363029558495, max S=1.3969916415520491, age=738, norm_err=1.3e-13\n",
      "Current memory usage 633616.0MB, wall time: 425.0s\n",
      "Delta E = -6.6118e-12, Delta S = -1.9618e-08 (per sweep)\n",
      "max trunc_err = 2.4260e-12, max E_trunc = 6.6507e-11\n",
      "chi: [500, 500, 500, 500, 500, 500]\n",
      "================================================================================\n",
      "INFO    : Running sweep with optimization\n",
      "INFO    : activate DensityMatrixMixer with initial amplitude 1.0e-05\n",
      "INFO    : Setting chi_max=500\n",
      "INFO    : start environment_sweep\n",
      "INFO    : checkpoint after sweep 50\n",
      "energy=1.1988363030216078, max S=1.3969916389586723, age=918, norm_err=4.8e-11\n",
      "Current memory usage 633616.0MB, wall time: 587.0s\n",
      "Delta E = 6.5758e-12, Delta S = 1.9828e-08 (per sweep)\n",
      "max trunc_err = 7.3411e-12, max E_trunc = 1.0914e-10\n",
      "chi: [500, 500, 500, 500, 500, 500]\n",
      "================================================================================\n",
      "INFO    : Convergence criterium reached with enabled mixer. Disable mixer and continue\n",
      "INFO    : Running sweep with optimization\n",
      "INFO    : start environment_sweep\n",
      "INFO    : checkpoint after sweep 60\n",
      "energy=1.1988363029554800, max S=1.3969916416981556, age=1098, norm_err=2.7e-13\n",
      "Current memory usage 633616.0MB, wall time: 464.5s\n",
      "Delta E = -6.6128e-12, Delta S = -1.9816e-08 (per sweep)\n",
      "max trunc_err = 2.4273e-12, max E_trunc = 6.5711e-11\n",
      "chi: [500, 500, 500, 500, 500, 500]\n",
      "================================================================================\n",
      "INFO    : DMRG finished after 60 sweeps, max chi=500\n"
     ]
    }
   ],
   "source": [
    "info = dmrg.run(psi, M, dmrg_params)\n",
    "energy = info['E']\n",
    "delta_energy = abs(info[\"sweep_statistics\"]['E'][-1] - info[\"sweep_statistics\"]['E'][-2])"
   ]
  },
  {
   "cell_type": "code",
   "execution_count": 8,
   "metadata": {},
   "outputs": [],
   "source": [
    "# Ly =6, Lx = 2, t = 1, U = 3, chi_max = 500, E = -0.1962525089224651 Delta E = 8.5273e-08"
   ]
  },
  {
   "cell_type": "code",
   "execution_count": 9,
   "metadata": {},
   "outputs": [],
   "source": [
    "# SPINLESS MIXED\n",
    "# t = 1.57, U =0, [\"full\",\"full\",\"empty\",\"empty\",\"empty\",\"empty\"]: \n",
    "# E = -1.370900, Delta_E = -1.6202e-03"
   ]
  },
  {
   "cell_type": "code",
   "execution_count": null,
   "metadata": {},
   "outputs": [],
   "source": []
  }
 ],
 "metadata": {
  "@webio": {
   "lastCommId": null,
   "lastKernelId": null
  },
  "kernelspec": {
   "display_name": "Python 3",
   "language": "python",
   "name": "python3"
  },
  "language_info": {
   "codemirror_mode": {
    "name": "ipython",
    "version": 3
   },
   "file_extension": ".py",
   "mimetype": "text/x-python",
   "name": "python",
   "nbconvert_exporter": "python",
   "pygments_lexer": "ipython3",
   "version": "3.8.5"
  }
 },
 "nbformat": 4,
 "nbformat_minor": 4
}
