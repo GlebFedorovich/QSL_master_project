{
 "cells": [
  {
   "cell_type": "code",
   "execution_count": 1,
   "metadata": {},
   "outputs": [
    {
     "name": "stderr",
     "output_type": "stream",
     "text": [
      "/Users/gleb/TeNPy/tenpy/tools/optimization.py:307: UserWarning: Couldn't load compiled cython code. Code will run a bit slower.\n",
      "  warnings.warn(\"Couldn't load compiled cython code. Code will run a bit slower.\")\n"
     ]
    }
   ],
   "source": [
    "import numpy as np\n",
    "import scipy\n",
    "import matplotlib.pyplot as plt\n",
    "np.set_printoptions(precision=5, suppress=True, linewidth=100)\n",
    "plt.rcParams['figure.dpi'] = 150\n",
    "from scipy.io import savemat\n",
    "from tenpy.tools.params import get_parameter\n",
    "from matplotlib import colors\n",
    "import matplotlib.pyplot as plt\n",
    "import sys\n",
    "from tenpy.models.mixed_xk import MixedXKLattice"
   ]
  },
  {
   "cell_type": "code",
   "execution_count": 2,
   "metadata": {},
   "outputs": [],
   "source": [
    "import tenpy\n",
    "import tenpy.linalg.np_conserved as npc\n",
    "from tenpy.algorithms import dmrg\n",
    "from tenpy.networks.mps import MPS\n",
    "from tenpy.models.tf_ising import TFIChain\n",
    "tenpy.tools.misc.setup_logging(to_stdout=\"INFO\")\n",
    "import pickle\n",
    "from tenpy.tools.misc import to_array, inverse_permutation, to_iterable"
   ]
  },
  {
   "cell_type": "code",
   "execution_count": 3,
   "metadata": {},
   "outputs": [],
   "source": [
    "from tenpy.networks.mps import MPS\n",
    "from tenpy.models.tf_ising import TFIChain\n",
    "from tenpy.algorithms import dmrg\n",
    "from tenpy.networks.site import SpinSite, SpinHalfSite, SpinHalfFermionSite, FermionSite\n",
    "from tenpy.models.lattice import Triangular, Square\n",
    "from tenpy.models.model import CouplingModel, NearestNeighborModel, MPOModel"
   ]
  },
  {
   "cell_type": "markdown",
   "metadata": {},
   "source": [
    "# Spinless mixed model, N-conserved, ky - not conserved"
   ]
  },
  {
   "cell_type": "code",
   "execution_count": 4,
   "metadata": {},
   "outputs": [],
   "source": [
    "class Hubbard_mixed(CouplingModel, MPOModel):\n",
    "    def __init__(self, model_param):\n",
    "        \n",
    "        ''' system size '''\n",
    "        Lx = model_param[\"Lx\"]\n",
    "        Ly = model_param[\"Ly\"]\n",
    "#         Lx = q \n",
    "        \n",
    "        ''' coupling constants'''\n",
    "        t = model_param[\"t\"]\n",
    "        V = model_param[\"V\"]\n",
    "#         phi = model_param[\"phase\"]\n",
    "        \n",
    "        \n",
    "        ''' boundary conditions'''\n",
    "        bc_MPS = model_param[\"bc_MPS\"]\n",
    "        bc_y = model_param[\"bc_y\"]\n",
    "        bc_x = model_param[\"bc_x\"]\n",
    "        \n",
    "        \n",
    "        ''' site with particle + U(1) symmetry conservation'''\n",
    "        site = FermionSite(conserve='N', filling = 0.5)\n",
    "        \n",
    "        ''' define square lattice'''\n",
    "        lat = Square(Lx, Ly, site, bc=[bc_x, bc_y], bc_MPS=bc_MPS)   \n",
    "        \n",
    "\n",
    "        CouplingModel.__init__(self, lat)\n",
    "        \n",
    "        dR1 = [1,0]\n",
    "        \n",
    "        if model_param[\"flux\"]:\n",
    "            \n",
    "            '''hopping terms'''\n",
    "            hops_along_x = (-t) * np.array([-1j + (-1) * np.exp(-1j * 2 * np.pi/Ly * np.arange(Ly)), -1j + np.exp(-1j * 2 * np.pi/Ly * np.arange(Ly))])\n",
    "            hops_y = (-t) * np.array([2 * np.cos(2 * np.pi/Ly * np.arange(Ly)), - 2 * np.cos(2 * np.pi/Ly * np.arange(Ly))])\n",
    "            \n",
    "            self.add_coupling(hops_along_x, 0, 'Cd', 0,'C', dR1, plus_hc=True)\n",
    "            self.add_onsite(hops_y, 0, 'N')\n",
    "         \n",
    "        else:\n",
    "            \n",
    "            '''hopping terms'''\n",
    "            hops_along_x = (-t) * np.array([1 + (+1) * np.exp(-1j * 2 * np.pi/Ly * np.arange(Ly))])\n",
    "#             hops_along_x = (-t)\n",
    "            hops_y = (-t) * np.array([2 * np.cos(2 * np.pi/Ly * np.arange(Ly))])\n",
    "            self.add_coupling(hops_along_x, 0, 'Cd', 0,'C', dR1, plus_hc=True)\n",
    "            self.add_onsite(hops_y, 0, 'N')\n",
    "        \n",
    "        ''' density-density interaction'''\n",
    "        for q1 in range(Ly):\n",
    "            for q2 in range(Ly):\n",
    "                dx1 = [0, q1]\n",
    "                dx2 = [0, 0]\n",
    "                dx4 = [0, q2]\n",
    "                dx3 = [0, q2 - q1]\n",
    "\n",
    "                self.add_multi_coupling(V/Ly, [('Cd', [0,q1], 0), ('C', [0,0], 0), ('Cd', [1,q2-q1], 0), ('C', [1,q2], 0)])\n",
    "                self.add_multi_coupling(np.exp(-1j * 2 * np.pi/Ly * q1) * V/Ly, [('Cd', [0,q1], 0), ('C', [0,0], 0), ('Cd', [1,q2-q1], 0), ('C', [1,q2], 0)])\n",
    "\n",
    "                if q1 == 0 and q2 == 0:\n",
    "                    dd_interaction = V/Ly\n",
    "                    self.add_onsite(dd_interaction, 0, 'N')\n",
    "\n",
    "                else:\n",
    "                    self.add_multi_coupling(np.cos(2 * np.pi/Ly * q1) * V/Ly, [('Cd', dx1, 0), ('C', dx2, 0), ('Cd', dx3, 0), ('C', dx4, 0)])                    \n",
    "        \n",
    "        MPOModel.__init__(self, lat, self.calc_H_MPO())\n",
    "#         ax = plt.gca()\n",
    "#         lat.plot_basis(ax)"
   ]
  },
  {
   "cell_type": "markdown",
   "metadata": {},
   "source": [
    "# Define DRMG parameters"
   ]
  },
  {
   "cell_type": "code",
   "execution_count": 5,
   "metadata": {},
   "outputs": [],
   "source": [
    "# if flux = True, Lx = 2\n",
    "# if flux = False, Lx = 1\n",
    "\n",
    "model_param = {\"Lattice\" : Square,\n",
    "              \"Ly\" : 3,\n",
    "              \"Lx\" : 3,\n",
    "              \"t\" : 1.0,\n",
    "              \"V\" : 15.0,\n",
    "              \"fraction\" : 2,\n",
    "              \"bc_MPS\" : \"infinite\",\n",
    "              \"bc_y\" : 'periodic',\n",
    "              \"bc_x\" : 'periodic',\n",
    "              \"flux\" : False}\n",
    "\n",
    "# chi_list = tenpy.algorithms.dmrg.chi_list(500, dchi=200, nsweeps=20)\n",
    "chi_list = {0:200, 20:400, 40:800}\n",
    "dmrg_params = {\"trunc_params\": {\"chi_max\": 1000, \"svd_min\": 1.e-10}, \"mixer\": True, \"chi_list\" : chi_list,\"max_sweeps\": 100}"
   ]
  },
  {
   "cell_type": "markdown",
   "metadata": {},
   "source": [
    "# Configure DMRG model and initial state"
   ]
  },
  {
   "cell_type": "code",
   "execution_count": 6,
   "metadata": {},
   "outputs": [],
   "source": [
    "M = Hubbard_mixed(model_param)\n",
    "sites = M.lat.mps_sites()\n",
    "psi = MPS.from_product_state(sites,[\"full\",\"empty\",\"empty\",\"full\",\"empty\",\"empty\", \"full\",\"empty\",\"empty\"],\"infinite\")"
   ]
  },
  {
   "cell_type": "code",
   "execution_count": 7,
   "metadata": {},
   "outputs": [
    {
     "name": "stdout",
     "output_type": "stream",
     "text": [
      "INFO    : DMRG: subconfig 'trunc_params'=Config(<2 options>, 'trunc_params')\n",
      "INFO    : DMRG: reading 'chi_list'={0: 200, 20: 400, 40: 800}\n",
      "INFO    : start environment_sweep\n",
      "INFO    : trunc_params: reading 'chi_max'=1000\n",
      "INFO    : trunc_params: reading 'svd_min'=1e-10\n",
      "INFO    : DMRG: reading 'max_sweeps'=100\n",
      "INFO    : DMRG: reading 'mixer'=True\n",
      "INFO    : activate DensityMatrixMixer with initial amplitude 1.0e-05\n",
      "INFO    : Running sweep with optimization\n",
      "INFO    : activate DensityMatrixMixer with initial amplitude 1.0e-05\n",
      "INFO    : Setting chi_max=200\n",
      "INFO    : start environment_sweep\n",
      "INFO    : checkpoint after sweep 10\n",
      "energy=-0.0713927424155859, max S=0.6660840543943646, age=297, norm_err=1.7e-12\n",
      "Current memory usage 234128.0MB, wall time: 118.2s\n",
      "Delta E = nan, Delta S = 4.4445e-02 (per sweep)\n",
      "max trunc_err = 2.0493e-18, max E_trunc = 1.1369e-13\n",
      "chi: [190, 200, 97, 168, 173, 189, 191, 178, 157]\n",
      "================================================================================\n",
      "INFO    : Running sweep with optimization\n",
      "INFO    : disable mixer after 15 sweeps, final amplitude 3.05e-10\n",
      "INFO    : start environment_sweep\n",
      "INFO    : checkpoint after sweep 20\n",
      "energy=-0.0713927424156754, max S=0.6660799838908890, age=567, norm_err=1.1e-15\n",
      "Current memory usage 234128.0MB, wall time: 100.2s\n",
      "Delta E = -8.9595e-15, Delta S = -1.3496e-07 (per sweep)\n",
      "max trunc_err = 1.2356e-19, max E_trunc = 4.2633e-14\n",
      "chi: [133, 145, 150, 133, 145, 150, 134, 145, 150]\n",
      "================================================================================\n",
      "INFO    : Running sweep with optimization\n",
      "INFO    : activate DensityMatrixMixer with initial amplitude 1.0e-05\n",
      "INFO    : Setting chi_max=400\n",
      "INFO    : start environment_sweep\n",
      "INFO    : checkpoint after sweep 30\n",
      "energy=-0.0713927424156054, max S=0.6660840543946399, age=837, norm_err=9.2e-13\n",
      "Current memory usage 365800.0MB, wall time: 367.2s\n",
      "Delta E = 7.0055e-15, Delta S = 1.3496e-07 (per sweep)\n",
      "max trunc_err = 4.1849e-19, max E_trunc = 9.2371e-14\n",
      "chi: [195, 206, 101, 183, 213, 247, 253, 217, 156]\n",
      "================================================================================\n",
      "INFO    : Running sweep with optimization\n",
      "INFO    : disable mixer after 35 sweeps, final amplitude 3.05e-10\n",
      "INFO    : start environment_sweep\n",
      "INFO    : checkpoint after sweep 40\n",
      "energy=-0.0713927424156736, max S=0.6660799838908892, age=1107, norm_err=1.5e-15\n",
      "Current memory usage 365800.0MB, wall time: 172.6s\n",
      "Delta E = -6.8182e-15, Delta S = -1.3496e-07 (per sweep)\n",
      "max trunc_err = 1.3469e-19, max E_trunc = 1.4211e-14\n",
      "chi: [133, 145, 150, 133, 145, 150, 133, 145, 150]\n",
      "================================================================================\n",
      "INFO    : Running sweep with optimization\n",
      "INFO    : activate DensityMatrixMixer with initial amplitude 1.0e-05\n",
      "INFO    : Setting chi_max=800\n",
      "INFO    : start environment_sweep\n",
      "INFO    : checkpoint after sweep 50\n",
      "energy=-0.0713927424156070, max S=0.6660840543948050, age=1377, norm_err=1.1e-12\n",
      "Current memory usage 367696.0MB, wall time: 461.4s\n",
      "Delta E = 6.6613e-15, Delta S = 1.3496e-07 (per sweep)\n",
      "max trunc_err = 4.3584e-19, max E_trunc = 1.7764e-14\n",
      "chi: [193, 206, 96, 180, 212, 249, 256, 224, 161]\n",
      "================================================================================\n",
      "INFO    : Convergence criterium reached with enabled mixer. Disable mixer and continue\n",
      "INFO    : Running sweep with optimization\n",
      "INFO    : start environment_sweep\n",
      "INFO    : checkpoint after sweep 60\n",
      "energy=-0.0713927424156683, max S=0.6660799838908885, age=1647, norm_err=1.6e-15\n",
      "Current memory usage 367696.0MB, wall time: 74.8s\n",
      "Delta E = -6.1381e-15, Delta S = -1.3496e-07 (per sweep)\n",
      "max trunc_err = 1.2840e-19, max E_trunc = 6.0396e-14\n",
      "chi: [133, 145, 150, 134, 145, 150, 134, 145, 150]\n",
      "================================================================================\n",
      "INFO    : DMRG finished after 60 sweeps, max chi=150\n"
     ]
    }
   ],
   "source": [
    "info = dmrg.run(psi, M, dmrg_params)\n",
    "energy = info['E']\n",
    "delta_energy = abs(info[\"sweep_statistics\"]['E'][-1] - info[\"sweep_statistics\"]['E'][-2])"
   ]
  },
  {
   "cell_type": "code",
   "execution_count": 8,
   "metadata": {},
   "outputs": [],
   "source": [
    "corr_length = psi.correlation_length()"
   ]
  },
  {
   "cell_type": "markdown",
   "metadata": {},
   "source": [
    "# Compute correlation function"
   ]
  },
  {
   "cell_type": "code",
   "execution_count": 9,
   "metadata": {},
   "outputs": [],
   "source": [
    "dist = np.arange(0, 40)\n",
    "Ly = 3\n",
    "charge_corr = np.zeros(len(dist))"
   ]
  },
  {
   "cell_type": "code",
   "execution_count": 10,
   "metadata": {},
   "outputs": [
    {
     "name": "stdout",
     "output_type": "stream",
     "text": [
      "0 0\n",
      "WARNING : <ipython-input-10-a37b68336ba1>:16: ComplexWarning: Casting complex values to real discards the imaginary part\n",
      "  charge_corr[j]+=np.exp(1j * 2 * np.pi/(Ly) * (1 * (k - l) + (y_d + 1) * (p - q))) * psi.expectation_value_term([('Cd', k), ('C', l), ('Cd', x_d * Ly + p), ('C', x_d * Ly + q)])\n",
      "\n",
      "0 1\n",
      "0 2\n",
      "1 0\n",
      "1 1\n",
      "1 2\n",
      "2 0\n",
      "2 1\n",
      "2 2\n",
      "3 0\n",
      "3 1\n",
      "3 2\n",
      "4 0\n",
      "4 1\n",
      "4 2\n",
      "5 0\n",
      "5 1\n",
      "5 2\n",
      "6 0\n",
      "6 1\n"
     ]
    }
   ],
   "source": [
    "for j,d in enumerate(dist):\n",
    "#     print(j, d)\n",
    "    x_d = d // Ly\n",
    "    y_d = d % Ly\n",
    "    print(x_d, y_d)\n",
    "    for k in range(Ly):\n",
    "        for l in range(Ly):\n",
    "            for p in range(Ly):\n",
    "                for q in range(Ly):\n",
    "#                         print(k,l,p,q)\n",
    "#                         print(np.exp(1j * 2 * np.pi/Ly * (k - l + p - q)) * \\\n",
    "#                         psi.expectation_value(ops=[\"Cd\",\"C\",\"Cd\",\"C\"], sites=[0 * Ly + k, 0 * Ly + l, x * Ly + p, x * Ly + q]))\n",
    "#                         charge_corr[j]+=np.exp(1j * 2 * np.pi/Ly * (k - l + p - q)) * \\\n",
    "#                         psi.expectation_value(ops=[\"Cd\",\"C\",\"Cd\",\"C\"], sites=[0 * Ly + k, 0 * Ly + l, x * Ly + p, x * Ly + q])\n",
    "\n",
    "                    charge_corr[j]+=np.exp(1j * 2 * np.pi/(Ly) * (0 * (k - l) + y_d * (p - q))) * psi.expectation_value_term([('Cd', k), ('C', l), ('Cd', x_d * Ly + p), ('C', x_d * Ly + q)])"
   ]
  },
  {
   "cell_type": "code",
   "execution_count": 11,
   "metadata": {},
   "outputs": [
    {
     "data": {
      "text/plain": [
       "Text(0.5, 1.0, 'Conserve ky, V = 15, corr_length = 1.0945433824775161')"
      ]
     },
     "execution_count": 11,
     "metadata": {},
     "output_type": "execute_result"
    },
    {
     "data": {
      "image/png": "[encoded data removed]",
      "text/plain": [
       "<Figure size 900x600 with 1 Axes>"
      ]
     },
     "metadata": {
      "needs_background": "light"
     },
     "output_type": "display_data"
    }
   ],
   "source": [
    "plt.figure()\n",
    "plt.scatter(dist, charge_corr)\n",
    "# plt.ylim([0, 0.4])\n",
    "plt.xlabel('i-j distance')\n",
    "plt.ylabel('<$n_i n_j$>')   \n",
    "plt.title(\"Conserve ky, V = 15, corr_length = \" + str(corr_length))\n",
    "# plt.savefig(\"flux_mixed_conserved_Ly_3_Lx_2_half_filling_2.pdf\")"
   ]
  }
 ],
 "metadata": {
  "@webio": {
   "lastCommId": null,
   "lastKernelId": null
  },
  "kernelspec": {
   "display_name": "Python 3",
   "language": "python",
   "name": "python3"
  },
  "language_info": {
   "codemirror_mode": {
    "name": "ipython",
    "version": 3
   },
   "file_extension": ".py",
   "mimetype": "text/x-python",
   "name": "python",
   "nbconvert_exporter": "python",
   "pygments_lexer": "ipython3",
   "version": "3.8.5"
  }
 },
 "nbformat": 4,
 "nbformat_minor": 4
}
